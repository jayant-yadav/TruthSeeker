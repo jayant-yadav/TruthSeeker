{
 "cells": [
  {
   "cell_type": "markdown",
   "metadata": {},
   "source": [
    "### This notebook experiments LLM capabilities to capture rhetorical expressions in debates  \n",
    "> \"My experiments with Truth\" - M.K.Gandhi  \n",
    "\n"
   ]
  },
  {
   "cell_type": "markdown",
   "metadata": {},
   "source": [
    "## OpenAI"
   ]
  },
  {
   "cell_type": "code",
   "execution_count": 35,
   "metadata": {},
   "outputs": [],
   "source": [
    "%%capture\n",
    "%pip install openai\n",
    "%pip install rich\n",
    "%pip uninstall markdown2\n",
    "%pip install mermaid-py"
   ]
  },
  {
   "cell_type": "code",
   "execution_count": 38,
   "metadata": {},
   "outputs": [
    {
     "data": {
      "text/html": [
       "<pre style=\"white-space:pre;overflow-x:auto;line-height:normal;font-family:Menlo,'DejaVu Sans Mono',consolas,'Courier New',monospace\"><span style=\"color: #800080; text-decoration-color: #800080; font-weight: bold\">ChatCompletionMessage</span><span style=\"font-weight: bold\">(</span>\n",
       "<span style=\"color: #7fbf7f; text-decoration-color: #7fbf7f\">│   </span><span style=\"color: #808000; text-decoration-color: #808000\">content</span>=<span style=\"color: #008000; text-decoration-color: #008000\">'### Rhetorical Expressions\\n\\n1. **Appeal to Consequences**: The author implies that failing to impose the EPA\\'s rules could allow harmful emissions to continue, leading to negative outcomes, such as exacerbated climate change.\\n  \\n2. **Comparative Analysis**: The author contrasts the projected costs of implementing the EPA’s rules against the overall size of the economy (“about $9 billion per year in 2011 dollars” compared to a \"$17 trillion\" economy) to argue that the financial impact is manageable.\\n\\n3. **Use of Statistics**: The mention of projected health and climate benefits that “outstrip costs many times over” serves to provide concrete evidence to support the argument.\\n\\n4. **Characterization of Opposition**: The author describes critics as citing “high-cost estimates based on faulty assumptions,” which paints them as unreliable and thus undermines their argument.\\n\\n### Fallacies\\n\\n1. **Straw Man Fallacy**: The argument simplifies and misrepresents the opposition\\'s position, suggesting they only focus on high costs without acknowledging other valid concerns they might raise about efficacy or alternative solutions.\\n\\n2. **Hasty Generalization**: The argument suggests that because the EPA’s estimates predict substantial benefits, they will necessarily occur without adequately addressing the uncertainty inherent in such projections.\\n\\n3. **Appeal to Authority**: The argument relies on the authority of the EPA without considering potential biases or limitations of their projections and policies.\\n\\n---\\n\\n### Argument Map (in mermaid format)\\n\\n```mermaid\\ngraph TD\\n    A[Conclusion: Congress should not weaken the EPA\\'s rules, as they are beneficial for economy and environment]\\n    \\n    A --&gt; B[Premise 1: The best possible policy framework has been created under current law]\\n    \\n    A --&gt; C[Premise 2: The EPA rules will provide significant health and climate benefits]\\n    \\n    A --&gt; D[Premise 3: Costs of the new rules are manageable relative to the economy]\\n    \\n    A --&gt; E[Premise 4: Critics\\' high-cost estimates are based on faulty assumptions]\\n\\n    B --&gt; F[Co-Premise: The three pieces of the plan include increasing car fuel efficiency, limiting new power plants, and restricting emissions from existing power plants]\\n    \\n    D --&gt; G[Objection: The rules will impose extreme costs on the economy]\\n    \\n    G --&gt; H[Counterargument: The projected peak cost is only about $9 billion annually, manageable against a $17 trillion economy]\\n    \\n    C --&gt; I[Rebuttal: Even if estimates are off, the regulations are still beneficial]\\n\\n    C --&gt; J[Lemma: Regulations will motivate other countries to act on climate change]\\n```\\n\\nThis argument map captures the main points and relationships within the argument, showcasing how each premise supports the conclusion while addressing potential objections.'</span>,\n",
       "<span style=\"color: #7fbf7f; text-decoration-color: #7fbf7f\">│   </span><span style=\"color: #808000; text-decoration-color: #808000\">refusal</span>=<span style=\"color: #800080; text-decoration-color: #800080; font-style: italic\">None</span>,\n",
       "<span style=\"color: #7fbf7f; text-decoration-color: #7fbf7f\">│   </span><span style=\"color: #808000; text-decoration-color: #808000\">role</span>=<span style=\"color: #008000; text-decoration-color: #008000\">'assistant'</span>,\n",
       "<span style=\"color: #7fbf7f; text-decoration-color: #7fbf7f\">│   </span><span style=\"color: #808000; text-decoration-color: #808000\">audio</span>=<span style=\"color: #800080; text-decoration-color: #800080; font-style: italic\">None</span>,\n",
       "<span style=\"color: #7fbf7f; text-decoration-color: #7fbf7f\">│   </span><span style=\"color: #808000; text-decoration-color: #808000\">function_call</span>=<span style=\"color: #800080; text-decoration-color: #800080; font-style: italic\">None</span>,\n",
       "<span style=\"color: #7fbf7f; text-decoration-color: #7fbf7f\">│   </span><span style=\"color: #808000; text-decoration-color: #808000\">tool_calls</span>=<span style=\"color: #800080; text-decoration-color: #800080; font-style: italic\">None</span>\n",
       "<span style=\"font-weight: bold\">)</span>\n",
       "</pre>\n"
      ],
      "text/plain": [
       "\u001b[1;35mChatCompletionMessage\u001b[0m\u001b[1m(\u001b[0m\n",
       "\u001b[2;32m│   \u001b[0m\u001b[33mcontent\u001b[0m=\u001b[32m'### Rhetorical Expressions\\n\\n1. **Appeal to Consequences**: The author implies that failing to impose the EPA\\'s rules could allow harmful emissions to continue, leading to negative outcomes, such as exacerbated climate change.\\n  \\n2. **Comparative Analysis**: The author contrasts the projected costs of implementing the EPA’s rules against the overall size of the economy \u001b[0m\u001b[32m(\u001b[0m\u001b[32m“about $9 billion per year in 2011 dollars” compared to a \"$17 trillion\" economy\u001b[0m\u001b[32m)\u001b[0m\u001b[32m to argue that the financial impact is manageable.\\n\\n3. **Use of Statistics**: The mention of projected health and climate benefits that “outstrip costs many times over” serves to provide concrete evidence to support the argument.\\n\\n4. **Characterization of Opposition**: The author describes critics as citing “high-cost estimates based on faulty assumptions,” which paints them as unreliable and thus undermines their argument.\\n\\n### Fallacies\\n\\n1. **Straw Man Fallacy**: The argument simplifies and misrepresents the opposition\\'s position, suggesting they only focus on high costs without acknowledging other valid concerns they might raise about efficacy or alternative solutions.\\n\\n2. **Hasty Generalization**: The argument suggests that because the EPA’s estimates predict substantial benefits, they will necessarily occur without adequately addressing the uncertainty inherent in such projections.\\n\\n3. **Appeal to Authority**: The argument relies on the authority of the EPA without considering potential biases or limitations of their projections and policies.\\n\\n---\\n\\n### Argument Map \u001b[0m\u001b[32m(\u001b[0m\u001b[32min mermaid format\u001b[0m\u001b[32m)\u001b[0m\u001b[32m\\n\\n```mermaid\\ngraph TD\\n    A\u001b[0m\u001b[32m[\u001b[0m\u001b[32mConclusion: Congress should not weaken the EPA\\'s rules, as they are beneficial for economy and environment\u001b[0m\u001b[32m]\u001b[0m\u001b[32m\\n    \\n    A --> B\u001b[0m\u001b[32m[\u001b[0m\u001b[32mPremise 1: The best possible policy framework has been created under current law\u001b[0m\u001b[32m]\u001b[0m\u001b[32m\\n    \\n    A --> C\u001b[0m\u001b[32m[\u001b[0m\u001b[32mPremise 2: The EPA rules will provide significant health and climate benefits\u001b[0m\u001b[32m]\u001b[0m\u001b[32m\\n    \\n    A --> D\u001b[0m\u001b[32m[\u001b[0m\u001b[32mPremise 3: Costs of the new rules are manageable relative to the economy\u001b[0m\u001b[32m]\u001b[0m\u001b[32m\\n    \\n    A --> E\u001b[0m\u001b[32m[\u001b[0m\u001b[32mPremise 4: Critics\\' high-cost estimates are based on faulty assumptions\u001b[0m\u001b[32m]\u001b[0m\u001b[32m\\n\\n    B --> F\u001b[0m\u001b[32m[\u001b[0m\u001b[32mCo-Premise: The three pieces of the plan include increasing car fuel efficiency, limiting new power plants, and restricting emissions from existing power plants\u001b[0m\u001b[32m]\u001b[0m\u001b[32m\\n    \\n    D --> G\u001b[0m\u001b[32m[\u001b[0m\u001b[32mObjection: The rules will impose extreme costs on the economy\u001b[0m\u001b[32m]\u001b[0m\u001b[32m\\n    \\n    G --> H\u001b[0m\u001b[32m[\u001b[0m\u001b[32mCounterargument: The projected peak cost is only about $9 billion annually, manageable against a $17 trillion economy\u001b[0m\u001b[32m]\u001b[0m\u001b[32m\\n    \\n    C --> I\u001b[0m\u001b[32m[\u001b[0m\u001b[32mRebuttal: Even if estimates are off, the regulations are still beneficial\u001b[0m\u001b[32m]\u001b[0m\u001b[32m\\n\\n    C --> J\u001b[0m\u001b[32m[\u001b[0m\u001b[32mLemma: Regulations will motivate other countries to act on climate change\u001b[0m\u001b[32m]\u001b[0m\u001b[32m\\n```\\n\\nThis argument map captures the main points and relationships within the argument, showcasing how each premise supports the conclusion while addressing potential objections.'\u001b[0m,\n",
       "\u001b[2;32m│   \u001b[0m\u001b[33mrefusal\u001b[0m=\u001b[3;35mNone\u001b[0m,\n",
       "\u001b[2;32m│   \u001b[0m\u001b[33mrole\u001b[0m=\u001b[32m'assistant'\u001b[0m,\n",
       "\u001b[2;32m│   \u001b[0m\u001b[33maudio\u001b[0m=\u001b[3;35mNone\u001b[0m,\n",
       "\u001b[2;32m│   \u001b[0m\u001b[33mfunction_call\u001b[0m=\u001b[3;35mNone\u001b[0m,\n",
       "\u001b[2;32m│   \u001b[0m\u001b[33mtool_calls\u001b[0m=\u001b[3;35mNone\u001b[0m\n",
       "\u001b[1m)\u001b[0m\n"
      ]
     },
     "metadata": {},
     "output_type": "display_data"
    },
    {
     "data": {
      "text/markdown": [
       "### Rhetorical Expressions\n",
       "\n",
       "1. **Appeal to Consequences**: The author implies that failing to impose the EPA's rules could allow harmful emissions to continue, leading to negative outcomes, such as exacerbated climate change.\n",
       "  \n",
       "2. **Comparative Analysis**: The author contrasts the projected costs of implementing the EPA’s rules against the overall size of the economy (“about $9 billion per year in 2011 dollars” compared to a \"$17 trillion\" economy) to argue that the financial impact is manageable.\n",
       "\n",
       "3. **Use of Statistics**: The mention of projected health and climate benefits that “outstrip costs many times over” serves to provide concrete evidence to support the argument.\n",
       "\n",
       "4. **Characterization of Opposition**: The author describes critics as citing “high-cost estimates based on faulty assumptions,” which paints them as unreliable and thus undermines their argument.\n",
       "\n",
       "### Fallacies\n",
       "\n",
       "1. **Straw Man Fallacy**: The argument simplifies and misrepresents the opposition's position, suggesting they only focus on high costs without acknowledging other valid concerns they might raise about efficacy or alternative solutions.\n",
       "\n",
       "2. **Hasty Generalization**: The argument suggests that because the EPA’s estimates predict substantial benefits, they will necessarily occur without adequately addressing the uncertainty inherent in such projections.\n",
       "\n",
       "3. **Appeal to Authority**: The argument relies on the authority of the EPA without considering potential biases or limitations of their projections and policies.\n",
       "\n",
       "---\n",
       "\n",
       "### Argument Map (in mermaid format)\n",
       "\n"
      ],
      "text/plain": [
       "<IPython.core.display.Markdown object>"
      ]
     },
     "metadata": {},
     "output_type": "display_data"
    },
    {
     "data": {
      "text/html": [
       "<svg id=\"mermaid-svg\" width=\"100%\" xmlns=\"http://www.w3.org/2000/svg\" class=\"flowchart\" style=\"max-width: 1361px;\" viewBox=\"0 0 1361 790\" role=\"graphics-document document\" aria-roledescription=\"flowchart-v2\" xmlns:xlink=\"http://www.w3.org/1999/xlink\"><style xmlns=\"http://www.w3.org/1999/xhtml\">@import url(\"https://cdnjs.cloudflare.com/ajax/libs/font-awesome/6.7.1/css/all.min.css\");</style><style>#mermaid-svg{font-family:\"trebuchet ms\",verdana,arial,sans-serif;font-size:16px;fill:#333;}#mermaid-svg .error-icon{fill:#552222;}#mermaid-svg .error-text{fill:#552222;stroke:#552222;}#mermaid-svg .edge-thickness-normal{stroke-width:1px;}#mermaid-svg .edge-thickness-thick{stroke-width:3.5px;}#mermaid-svg .edge-pattern-solid{stroke-dasharray:0;}#mermaid-svg .edge-thickness-invisible{stroke-width:0;fill:none;}#mermaid-svg .edge-pattern-dashed{stroke-dasharray:3;}#mermaid-svg .edge-pattern-dotted{stroke-dasharray:2;}#mermaid-svg .marker{fill:#333333;stroke:#333333;}#mermaid-svg .marker.cross{stroke:#333333;}#mermaid-svg svg{font-family:\"trebuchet ms\",verdana,arial,sans-serif;font-size:16px;}#mermaid-svg p{margin:0;}#mermaid-svg .label{font-family:\"trebuchet ms\",verdana,arial,sans-serif;color:#333;}#mermaid-svg .cluster-label text{fill:#333;}#mermaid-svg .cluster-label span{color:#333;}#mermaid-svg .cluster-label span p{background-color:transparent;}#mermaid-svg .label text,#mermaid-svg span{fill:#333;color:#333;}#mermaid-svg .node rect,#mermaid-svg .node circle,#mermaid-svg .node ellipse,#mermaid-svg .node polygon,#mermaid-svg .node path{fill:#ECECFF;stroke:#9370DB;stroke-width:1px;}#mermaid-svg .rough-node .label text,#mermaid-svg .node .label text,#mermaid-svg .image-shape .label,#mermaid-svg .icon-shape .label{text-anchor:middle;}#mermaid-svg .node .katex path{fill:#000;stroke:#000;stroke-width:1px;}#mermaid-svg .rough-node .label,#mermaid-svg .node .label,#mermaid-svg .image-shape .label,#mermaid-svg .icon-shape .label{text-align:center;}#mermaid-svg .node.clickable{cursor:pointer;}#mermaid-svg .root .anchor path{fill:#333333!important;stroke-width:0;stroke:#333333;}#mermaid-svg .arrowheadPath{fill:#333333;}#mermaid-svg .edgePath .path{stroke:#333333;stroke-width:2.0px;}#mermaid-svg .flowchart-link{stroke:#333333;fill:none;}#mermaid-svg .edgeLabel{background-color:rgba(232,232,232, 0.8);text-align:center;}#mermaid-svg .edgeLabel p{background-color:rgba(232,232,232, 0.8);}#mermaid-svg .edgeLabel rect{opacity:0.5;background-color:rgba(232,232,232, 0.8);fill:rgba(232,232,232, 0.8);}#mermaid-svg .labelBkg{background-color:rgba(232, 232, 232, 0.5);}#mermaid-svg .cluster rect{fill:#ffffde;stroke:#aaaa33;stroke-width:1px;}#mermaid-svg .cluster text{fill:#333;}#mermaid-svg .cluster span{color:#333;}#mermaid-svg div.mermaidTooltip{position:absolute;text-align:center;max-width:200px;padding:2px;font-family:\"trebuchet ms\",verdana,arial,sans-serif;font-size:12px;background:hsl(80, 100%, 96.2745098039%);border:1px solid #aaaa33;border-radius:2px;pointer-events:none;z-index:100;}#mermaid-svg .flowchartTitleText{text-anchor:middle;font-size:18px;fill:#333;}#mermaid-svg rect.text{fill:none;stroke-width:0;}#mermaid-svg .icon-shape,#mermaid-svg .image-shape{background-color:rgba(232,232,232, 0.8);text-align:center;}#mermaid-svg .icon-shape p,#mermaid-svg .image-shape p{background-color:rgba(232,232,232, 0.8);padding:2px;}#mermaid-svg .icon-shape rect,#mermaid-svg .image-shape rect{opacity:0.5;background-color:rgba(232,232,232, 0.8);fill:rgba(232,232,232, 0.8);}#mermaid-svg :root{--mermaid-font-family:\"trebuchet ms\",verdana,arial,sans-serif;}</style><g><marker id=\"mermaid-svg_flowchart-v2-pointEnd\" class=\"marker flowchart-v2\" viewBox=\"0 0 10 10\" refX=\"5\" refY=\"5\" markerUnits=\"userSpaceOnUse\" markerWidth=\"8\" markerHeight=\"8\" orient=\"auto\"><path d=\"M 0 0 L 10 5 L 0 10 z\" class=\"arrowMarkerPath\" style=\"stroke-width: 1; stroke-dasharray: 1, 0;\"/></marker><marker id=\"mermaid-svg_flowchart-v2-pointStart\" class=\"marker flowchart-v2\" viewBox=\"0 0 10 10\" refX=\"4.5\" refY=\"5\" markerUnits=\"userSpaceOnUse\" markerWidth=\"8\" markerHeight=\"8\" orient=\"auto\"><path d=\"M 0 5 L 10 10 L 10 0 z\" class=\"arrowMarkerPath\" style=\"stroke-width: 1; stroke-dasharray: 1, 0;\"/></marker><marker id=\"mermaid-svg_flowchart-v2-circleEnd\" class=\"marker flowchart-v2\" viewBox=\"0 0 10 10\" refX=\"11\" refY=\"5\" markerUnits=\"userSpaceOnUse\" markerWidth=\"11\" markerHeight=\"11\" orient=\"auto\"><circle cx=\"5\" cy=\"5\" r=\"5\" class=\"arrowMarkerPath\" style=\"stroke-width: 1; stroke-dasharray: 1, 0;\"/></marker><marker id=\"mermaid-svg_flowchart-v2-circleStart\" class=\"marker flowchart-v2\" viewBox=\"0 0 10 10\" refX=\"-1\" refY=\"5\" markerUnits=\"userSpaceOnUse\" markerWidth=\"11\" markerHeight=\"11\" orient=\"auto\"><circle cx=\"5\" cy=\"5\" r=\"5\" class=\"arrowMarkerPath\" style=\"stroke-width: 1; stroke-dasharray: 1, 0;\"/></marker><marker id=\"mermaid-svg_flowchart-v2-crossEnd\" class=\"marker cross flowchart-v2\" viewBox=\"0 0 11 11\" refX=\"12\" refY=\"5.2\" markerUnits=\"userSpaceOnUse\" markerWidth=\"11\" markerHeight=\"11\" orient=\"auto\"><path d=\"M 1,1 l 9,9 M 10,1 l -9,9\" class=\"arrowMarkerPath\" style=\"stroke-width: 2; stroke-dasharray: 1, 0;\"/></marker><marker id=\"mermaid-svg_flowchart-v2-crossStart\" class=\"marker cross flowchart-v2\" viewBox=\"0 0 11 11\" refX=\"-1\" refY=\"5.2\" markerUnits=\"userSpaceOnUse\" markerWidth=\"11\" markerHeight=\"11\" orient=\"auto\"><path d=\"M 1,1 l 9,9 M 10,1 l -9,9\" class=\"arrowMarkerPath\" style=\"stroke-width: 2; stroke-dasharray: 1, 0;\"/></marker><g class=\"root\"><g class=\"clusters\"/><g class=\"edgePaths\"><path d=\"M628,103.968L546.333,117.14C464.667,130.312,301.333,156.656,219.667,173.328C138,190,138,197,138,200.5L138,204\" id=\"L_A_B_0\" class=\" edge-thickness-normal edge-pattern-solid edge-thickness-normal edge-pattern-solid flowchart-link\" style=\"\" marker-end=\"url(#mermaid-svg_flowchart-v2-pointEnd)\"/><path d=\"M874.25,158L880.708,162.167C887.167,166.333,900.083,174.667,906.542,184.333C913,194,913,205,913,210.5L913,216\" id=\"L_A_C_1\" class=\" edge-thickness-normal edge-pattern-solid edge-thickness-normal edge-pattern-solid flowchart-link\" style=\"\" marker-end=\"url(#mermaid-svg_flowchart-v2-pointEnd)\"/><path d=\"M628,124.935L598,134.613C568,144.29,508,163.645,478,178.823C448,194,448,205,448,210.5L448,216\" id=\"L_A_D_2\" class=\" edge-thickness-normal edge-pattern-solid edge-thickness-normal edge-pattern-solid flowchart-link\" style=\"\" marker-end=\"url(#mermaid-svg_flowchart-v2-pointEnd)\"/><path d=\"M888,110.957L943.833,122.964C999.667,134.971,1111.333,158.986,1167.167,176.493C1223,194,1223,205,1223,210.5L1223,216\" id=\"L_A_E_3\" class=\" edge-thickness-normal edge-pattern-solid edge-thickness-normal edge-pattern-solid flowchart-link\" style=\"\" marker-end=\"url(#mermaid-svg_flowchart-v2-pointEnd)\"/><path d=\"M138,334L138,338.167C138,342.333,138,350.667,138,358.333C138,366,138,373,138,376.5L138,380\" id=\"L_B_F_4\" class=\" edge-thickness-normal edge-pattern-solid edge-thickness-normal edge-pattern-solid flowchart-link\" style=\"\" marker-end=\"url(#mermaid-svg_flowchart-v2-pointEnd)\"/><path d=\"M448,322L448,328.167C448,334.333,448,346.667,448,364.333C448,382,448,405,448,416.5L448,428\" id=\"L_D_G_5\" class=\" edge-thickness-normal edge-pattern-solid edge-thickness-normal edge-pattern-solid flowchart-link\" style=\"\" marker-end=\"url(#mermaid-svg_flowchart-v2-pointEnd)\"/><path d=\"M448,534L448,546.167C448,558.333,448,582.667,448,598.333C448,614,448,621,448,624.5L448,628\" id=\"L_G_H_6\" class=\" edge-thickness-normal edge-pattern-solid edge-thickness-normal edge-pattern-solid flowchart-link\" style=\"\" marker-end=\"url(#mermaid-svg_flowchart-v2-pointEnd)\"/><path d=\"M823.17,322L812.309,328.167C801.447,334.333,779.723,346.667,768.862,364.333C758,382,758,405,758,416.5L758,428\" id=\"L_C_I_7\" class=\" edge-thickness-normal edge-pattern-solid edge-thickness-normal edge-pattern-solid flowchart-link\" style=\"\" marker-end=\"url(#mermaid-svg_flowchart-v2-pointEnd)\"/><path d=\"M1002.83,322L1013.691,328.167C1024.553,334.333,1046.277,346.667,1057.138,364.333C1068,382,1068,405,1068,416.5L1068,428\" id=\"L_C_J_8\" class=\" edge-thickness-normal edge-pattern-solid edge-thickness-normal edge-pattern-solid flowchart-link\" style=\"\" marker-end=\"url(#mermaid-svg_flowchart-v2-pointEnd)\"/></g><g class=\"edgeLabels\"><g class=\"edgeLabel\"><g class=\"label\" transform=\"translate(0, 0)\"><foreignObject width=\"0\" height=\"0\"><div xmlns=\"http://www.w3.org/1999/xhtml\" class=\"labelBkg\" style=\"display: table-cell; white-space: nowrap; line-height: 1.5; max-width: 200px; text-align: center;\"><span class=\"edgeLabel \"></span></div></foreignObject></g></g><g class=\"edgeLabel\"><g class=\"label\" transform=\"translate(0, 0)\"><foreignObject width=\"0\" height=\"0\"><div xmlns=\"http://www.w3.org/1999/xhtml\" class=\"labelBkg\" style=\"display: table-cell; white-space: nowrap; line-height: 1.5; max-width: 200px; text-align: center;\"><span class=\"edgeLabel \"></span></div></foreignObject></g></g><g class=\"edgeLabel\"><g class=\"label\" transform=\"translate(0, 0)\"><foreignObject width=\"0\" height=\"0\"><div xmlns=\"http://www.w3.org/1999/xhtml\" class=\"labelBkg\" style=\"display: table-cell; white-space: nowrap; line-height: 1.5; max-width: 200px; text-align: center;\"><span class=\"edgeLabel \"></span></div></foreignObject></g></g><g class=\"edgeLabel\"><g class=\"label\" transform=\"translate(0, 0)\"><foreignObject width=\"0\" height=\"0\"><div xmlns=\"http://www.w3.org/1999/xhtml\" class=\"labelBkg\" style=\"display: table-cell; white-space: nowrap; line-height: 1.5; max-width: 200px; text-align: center;\"><span class=\"edgeLabel \"></span></div></foreignObject></g></g><g class=\"edgeLabel\"><g class=\"label\" transform=\"translate(0, 0)\"><foreignObject width=\"0\" height=\"0\"><div xmlns=\"http://www.w3.org/1999/xhtml\" class=\"labelBkg\" style=\"display: table-cell; white-space: nowrap; line-height: 1.5; max-width: 200px; text-align: center;\"><span class=\"edgeLabel \"></span></div></foreignObject></g></g><g class=\"edgeLabel\"><g class=\"label\" transform=\"translate(0, 0)\"><foreignObject width=\"0\" height=\"0\"><div xmlns=\"http://www.w3.org/1999/xhtml\" class=\"labelBkg\" style=\"display: table-cell; white-space: nowrap; line-height: 1.5; max-width: 200px; text-align: center;\"><span class=\"edgeLabel \"></span></div></foreignObject></g></g><g class=\"edgeLabel\"><g class=\"label\" transform=\"translate(0, 0)\"><foreignObject width=\"0\" height=\"0\"><div xmlns=\"http://www.w3.org/1999/xhtml\" class=\"labelBkg\" style=\"display: table-cell; white-space: nowrap; line-height: 1.5; max-width: 200px; text-align: center;\"><span class=\"edgeLabel \"></span></div></foreignObject></g></g><g class=\"edgeLabel\"><g class=\"label\" transform=\"translate(0, 0)\"><foreignObject width=\"0\" height=\"0\"><div xmlns=\"http://www.w3.org/1999/xhtml\" class=\"labelBkg\" style=\"display: table-cell; white-space: nowrap; line-height: 1.5; max-width: 200px; text-align: center;\"><span class=\"edgeLabel \"></span></div></foreignObject></g></g><g class=\"edgeLabel\"><g class=\"label\" transform=\"translate(0, 0)\"><foreignObject width=\"0\" height=\"0\"><div xmlns=\"http://www.w3.org/1999/xhtml\" class=\"labelBkg\" style=\"display: table-cell; white-space: nowrap; line-height: 1.5; max-width: 200px; text-align: center;\"><span class=\"edgeLabel \"></span></div></foreignObject></g></g></g><g class=\"nodes\"><g class=\"node default  \" id=\"flowchart-A-0\" transform=\"translate(758, 83)\"><rect class=\"basic label-container\" style=\"\" x=\"-130\" y=\"-75\" width=\"260\" height=\"150\"/><g class=\"label\" style=\"\" transform=\"translate(-100, -60)\"><rect/><foreignObject width=\"200\" height=\"120\"><div xmlns=\"http://www.w3.org/1999/xhtml\" style=\"display: table; white-space: break-spaces; line-height: 1.5; max-width: 200px; text-align: center; width: 200px;\"><span class=\"nodeLabel \"><p>Conclusion: Congress should not weaken the EPA's rules, as they are beneficial for economy and environment</p></span></div></foreignObject></g></g><g class=\"node default  \" id=\"flowchart-B-2\" transform=\"translate(138, 271)\"><rect class=\"basic label-container\" style=\"\" x=\"-130\" y=\"-63\" width=\"260\" height=\"126\"/><g class=\"label\" style=\"\" transform=\"translate(-100, -48)\"><rect/><foreignObject width=\"200\" height=\"96\"><div xmlns=\"http://www.w3.org/1999/xhtml\" style=\"display: table; white-space: break-spaces; line-height: 1.5; max-width: 200px; text-align: center; width: 200px;\"><span class=\"nodeLabel \"><p>Premise 1: The best possible policy framework has been created under current law</p></span></div></foreignObject></g></g><g class=\"node default  \" id=\"flowchart-C-4\" transform=\"translate(913, 271)\"><rect class=\"basic label-container\" style=\"\" x=\"-130\" y=\"-51\" width=\"260\" height=\"102\"/><g class=\"label\" style=\"\" transform=\"translate(-100, -36)\"><rect/><foreignObject width=\"200\" height=\"72\"><div xmlns=\"http://www.w3.org/1999/xhtml\" style=\"display: table; white-space: break-spaces; line-height: 1.5; max-width: 200px; text-align: center; width: 200px;\"><span class=\"nodeLabel \"><p>Premise 2: The EPA rules will provide significant health and climate benefits</p></span></div></foreignObject></g></g><g class=\"node default  \" id=\"flowchart-D-6\" transform=\"translate(448, 271)\"><rect class=\"basic label-container\" style=\"\" x=\"-130\" y=\"-51\" width=\"260\" height=\"102\"/><g class=\"label\" style=\"\" transform=\"translate(-100, -36)\"><rect/><foreignObject width=\"200\" height=\"72\"><div xmlns=\"http://www.w3.org/1999/xhtml\" style=\"display: table; white-space: break-spaces; line-height: 1.5; max-width: 200px; text-align: center; width: 200px;\"><span class=\"nodeLabel \"><p>Premise 3: Costs of the new rules are manageable relative to the economy</p></span></div></foreignObject></g></g><g class=\"node default  \" id=\"flowchart-E-8\" transform=\"translate(1223, 271)\"><rect class=\"basic label-container\" style=\"\" x=\"-130\" y=\"-51\" width=\"260\" height=\"102\"/><g class=\"label\" style=\"\" transform=\"translate(-100, -36)\"><rect/><foreignObject width=\"200\" height=\"72\"><div xmlns=\"http://www.w3.org/1999/xhtml\" style=\"display: table; white-space: break-spaces; line-height: 1.5; max-width: 200px; text-align: center; width: 200px;\"><span class=\"nodeLabel \"><p>Premise 4: Critics' high-cost estimates are based on faulty assumptions</p></span></div></foreignObject></g></g><g class=\"node default  \" id=\"flowchart-F-10\" transform=\"translate(138, 483)\"><rect class=\"basic label-container\" style=\"\" x=\"-130\" y=\"-99\" width=\"260\" height=\"198\"/><g class=\"label\" style=\"\" transform=\"translate(-100, -84)\"><rect/><foreignObject width=\"200\" height=\"168\"><div xmlns=\"http://www.w3.org/1999/xhtml\" style=\"display: table; white-space: break-spaces; line-height: 1.5; max-width: 200px; text-align: center; width: 200px;\"><span class=\"nodeLabel \"><p>Co-Premise: The three pieces of the plan include increasing car fuel efficiency, limiting new power plants, and restricting emissions from existing power plants</p></span></div></foreignObject></g></g><g class=\"node default  \" id=\"flowchart-G-12\" transform=\"translate(448, 483)\"><rect class=\"basic label-container\" style=\"\" x=\"-130\" y=\"-51\" width=\"260\" height=\"102\"/><g class=\"label\" style=\"\" transform=\"translate(-100, -36)\"><rect/><foreignObject width=\"200\" height=\"72\"><div xmlns=\"http://www.w3.org/1999/xhtml\" style=\"display: table; white-space: break-spaces; line-height: 1.5; max-width: 200px; text-align: center; width: 200px;\"><span class=\"nodeLabel \"><p>Objection: The rules will impose extreme costs on the economy</p></span></div></foreignObject></g></g><g class=\"node default  \" id=\"flowchart-H-14\" transform=\"translate(448, 707)\"><rect class=\"basic label-container\" style=\"\" x=\"-130\" y=\"-75\" width=\"260\" height=\"150\"/><g class=\"label\" style=\"\" transform=\"translate(-100, -60)\"><rect/><foreignObject width=\"200\" height=\"120\"><div xmlns=\"http://www.w3.org/1999/xhtml\" style=\"display: table; white-space: break-spaces; line-height: 1.5; max-width: 200px; text-align: center; width: 200px;\"><span class=\"nodeLabel \"><p>Counterargument: The projected peak cost is only about $9 billion annually, manageable against a $17 trillion economy</p></span></div></foreignObject></g></g><g class=\"node default  \" id=\"flowchart-I-16\" transform=\"translate(758, 483)\"><rect class=\"basic label-container\" style=\"\" x=\"-130\" y=\"-51\" width=\"260\" height=\"102\"/><g class=\"label\" style=\"\" transform=\"translate(-100, -36)\"><rect/><foreignObject width=\"200\" height=\"72\"><div xmlns=\"http://www.w3.org/1999/xhtml\" style=\"display: table; white-space: break-spaces; line-height: 1.5; max-width: 200px; text-align: center; width: 200px;\"><span class=\"nodeLabel \"><p>Rebuttal: Even if estimates are off, the regulations are still beneficial</p></span></div></foreignObject></g></g><g class=\"node default  \" id=\"flowchart-J-18\" transform=\"translate(1068, 483)\"><rect class=\"basic label-container\" style=\"\" x=\"-130\" y=\"-51\" width=\"260\" height=\"102\"/><g class=\"label\" style=\"\" transform=\"translate(-100, -36)\"><rect/><foreignObject width=\"200\" height=\"72\"><div xmlns=\"http://www.w3.org/1999/xhtml\" style=\"display: table; white-space: break-spaces; line-height: 1.5; max-width: 200px; text-align: center; width: 200px;\"><span class=\"nodeLabel \"><p>Lemma: Regulations will motivate other countries to act on climate change</p></span></div></foreignObject></g></g></g></g></g></svg>"
      ],
      "text/plain": [
       "<mermaid.__main__.Mermaid at 0x1133705f0>"
      ]
     },
     "metadata": {},
     "output_type": "display_data"
    }
   ],
   "source": [
    "from openai import OpenAI\n",
    "from rich.pretty import pprint as rprint\n",
    "import json\n",
    "from IPython.display import display, Markdown\n",
    "import mermaid as md\n",
    "from mermaid.graph import Graph\n",
    "\n",
    "api_keys_file = json.loads(open('api_keys.json').read())\n",
    "openapi_key = api_keys_file['openai']\n",
    "client = OpenAI(api_key = openapi_key)\n",
    "\n",
    "\n",
    "completion = client.chat.completions.create(\n",
    "    model=\"gpt-4o-mini\",\n",
    "    messages=[\n",
    "        {\"role\": \"developer\", \n",
    "         \"content\": \"You are a helpful assistant to a debate moderator. Help the moderator by finding rhetorical expressions and fallacies in the arguments provided. Also provide an argument map in mermaid format, with conculsion, premises, co-premises, objections, counterarguments, rebuttals, inferences and lemmas if only if available in the arument. Do not use prior knowledge.\"},\n",
    "         \n",
    "        {\n",
    "            \"role\": \"user\",\n",
    "            \"content\": \"THE COUNTRY is about to see its fiercest climate-change battle. After years of congressional inaction, President Obama’s Environmental Protection Agency is applying new rules to curb greenhouse-gas emissions from cars, trucks and — most controversially — power plants, the biggest national emitters. Senate Minority Leader Mitch McConnell (R-Ky.) has said he will try to restrict the EPA if Republicans take over the Senate. Mr. Obama’s executive actions will be an issue in the 2016 presidential campaign. The EPA has drawn up the best possible policy framework under current law, and it is much better than nothing. Congress should not weaken the rules. But lawmakers could significantly improve on them. The Obama administration’s plan has three pieces. First, the EPA has persuaded carmakers to nearly double the fuel efficiency of U.S. autos, in the process cutting their carbon emissions in half. Second, the EPA placed limits on the carbon dioxide that new power plants can emit, virtually guaranteeing that no more conventional coal-fired plants will be built in the United States. Third, the EPA proposed in June a rule that would restrict the emissions of existing power plants, cutting their carbon emissions by 30 percent by 2030. The central criticism is that these rules, particularly the third, will exact extreme costs on the economy without reversing the rise in global temperatures. But critics have been citing high-cost estimates based on faulty assumptions, and the EPA figures that its power plant rule, which gives utilities many years to comply, will peak at about $9 billion per year in 2011 dollars. That’s a relative pittance in an economy that’s nearly $17 trillion and growing. In return, the EPA projects health and climate benefits outstripping costs many times over. Even if the EPA’s reckoning is significantly off, the regulations will do more good than harm — without even considering their importance in motivating other countries to act.\"\n",
    "        }\n",
    "    ]\n",
    ")\n",
    "\n",
    "rprint(completion.choices[0].message)\n",
    "display(Markdown(f\"{completion.choices[0].message.content.split(\"```mermaid\")[0]}\"))\n",
    "\n",
    "# Extract the mermaid diagram script from the completion message content\n",
    "mermaid_script = completion.choices[0].message.content.split(\"```mermaid\")[1].split(\"```\")[0]\n",
    "\n",
    "# Create a Graph object with the extracted script\n",
    "sequence = Graph('Sequence-diagram', mermaid_script)\n",
    "render = md.Mermaid(sequence)\n",
    "\n",
    "# Display the rendered mermaid diagram\n",
    "display(render)"
   ]
  },
  {
   "cell_type": "code",
   "execution_count": null,
   "metadata": {},
   "outputs": [],
   "source": [
    "\"\"\"Pos-processing transcriptions:\n",
    "Correct spellings and do diariazation as much as possible.\n",
    "\"\"\"\n",
    "system_prompt = \"\"\"\n",
    "You are a helpful assistant for the company ZyntriQix. Your task is to correct \n",
    "any spelling discrepancies in the transcribed text. Make sure that the names of \n",
    "the following products are spelled correctly: ZyntriQix, Digique Plus, \n",
    "CynapseFive, VortiQore V8, EchoNix Array, OrbitalLink Seven, DigiFractal \n",
    "Matrix, PULSE, RAPT, B.R.I.C.K., Q.U.A.R.T.Z., F.L.I.N.T. Only add necessary \n",
    "punctuation such as periods, commas, and capitalization, and use only the \n",
    "context provided.\n",
    "\"\"\"\n",
    "\n",
    "def generate_corrected_transcript(temperature, system_prompt, audio_file):\n",
    "    response = client.chat.completions.create(\n",
    "        model=\"gpt-4o\",\n",
    "        temperature=temperature,\n",
    "        messages=[\n",
    "            {\n",
    "                \"role\": \"system\",\n",
    "                \"content\": system_prompt\n",
    "            },\n",
    "            {\n",
    "                \"role\": \"user\",\n",
    "                \"content\": transcribe(audio_file, \"\")\n",
    "            }\n",
    "        ]\n",
    "    )\n",
    "    return completion.choices[0].message.content\n",
    "corrected_text = generate_corrected_transcript(\n",
    "    0, system_prompt, fake_company_filepath\n",
    ")"
   ]
  }
 ],
 "metadata": {
  "kernelspec": {
   "display_name": "impacthack_env",
   "language": "python",
   "name": "python3"
  },
  "language_info": {
   "codemirror_mode": {
    "name": "ipython",
    "version": 3
   },
   "file_extension": ".py",
   "mimetype": "text/x-python",
   "name": "python",
   "nbconvert_exporter": "python",
   "pygments_lexer": "ipython3",
   "version": "3.13.2"
  }
 },
 "nbformat": 4,
 "nbformat_minor": 2
}
