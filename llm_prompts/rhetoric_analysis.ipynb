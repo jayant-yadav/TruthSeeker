{
 "cells": [
  {
   "cell_type": "markdown",
   "metadata": {},
   "source": [
    "### This notebook experiments LLM capabilities to capture rhetorical expressions in debates  \n",
    "> \"My experiments with Truth\" - M.K.Gandhi  "
   ]
  },
  {
   "cell_type": "markdown",
   "metadata": {},
   "source": [
    "## OpenAI"
   ]
  },
  {
   "cell_type": "code",
   "execution_count": null,
   "metadata": {},
   "outputs": [],
   "source": [
    "%%capture\n",
    "%pip install openai\n",
    "%pip install rich\n",
    "%pip uninstall markdown2\n",
    "%pip install mermaid-py"
   ]
  },
  {
   "cell_type": "markdown",
   "metadata": {},
   "source": [
    "#### debates "
   ]
  },
  {
   "cell_type": "code",
   "execution_count": 1,
   "metadata": {},
   "outputs": [],
   "source": [
    "climate_change_debate = f\"THE COUNTRY is about to see its fiercest climate-change battle. After years of congressional inaction, President Obama’s Environmental Protection Agency is applying new rules to curb greenhouse-gas emissions from cars, trucks and — most controversially — power plants, the biggest national emitters. Senate Minority Leader Mitch McConnell (R-Ky.) has said he will try to restrict the EPA if Republicans take over the Senate. Mr. Obama’s executive actions will be an issue in the 2016 presidential campaign. The EPA has drawn up the best possible policy framework under current law, and it is much better than nothing. Congress should not weaken the rules. But lawmakers could significantly improve on them. The Obama administration’s plan has three pieces. First, the EPA has persuaded carmakers to nearly double the fuel efficiency of U.S. autos, in the process cutting their carbon emissions in half. Second, the EPA placed limits on the carbon dioxide that new power plants can emit, virtually guaranteeing that no more conventional coal-fired plants will be built in the United States. Third, the EPA proposed in June a rule that would restrict the emissions of existing power plants, cutting their carbon emissions by 30 percent by 2030. The central criticism is that these rules, particularly the third, will exact extreme costs on the economy without reversing the rise in global temperatures. But critics have been citing high-cost estimates based on faulty assumptions, and the EPA figures that its power plant rule, which gives utilities many years to comply, will peak at about $9 billion per year in 2011 dollars. That’s a relative pittance in an economy that’s nearly $17 trillion and growing. In return, the EPA projects health and climate benefits outstripping costs many times over. Even if the EPA’s reckoning is significantly off, the regulations will do more good than harm — without even considering their importance in motivating other countries to act.\"\n",
    "gang_violence_debate = f\"President. – The next item on the agenda is the debate on the Commission statement on the escalation of gang violence in Sweden and strengthening the fight against organised crime\\n\\n Maria Luís Albuquerque, Member of the Commission. – Madam President, honourable Members, the horrendous attack in Örebro – one of the worst attacks in Swedish history – has shocked as all to the core. And I would like to express my heartfelt condolences to the families and friends who lost their loved ones. Such attacks have no place in Europe.\\nThe first thing European citizens expect from us is protection. That is also true when it comes to the topic of today's debate: gang violence. Gang violence is not only a big threat to life and security; it is a huge threat to democracy and society too, and it is part of the bigger structures of organised crime infiltrating our legal economies and processes.\\nAs outlined by President von der Leyen at the beginning of this mandate, there can be no hiding place for organised crime in Europe, either offline or online. The threat to our internal security by organised crime networks is unprecedented and increasingly visible. And it is not only an impression that we get following the news – the figures speak for themselves. Last year, Europol identified 821 high-risk criminal networks active in the EU. Nearly 90 % of them have infiltrated the legal economy, running businesses, investing in real estate. They are strong and operate freely across borders, including online. They are active in drug trafficking, fraud, property crime, migrant smuggling, and trafficking in human beings. To avoid prosecution, these groups are increasingly recruiting young people to perpetrate even violent crimes.\\nMost of this violence is directly linked to organised crime and drug trafficking. Drug-related violence has spread from secluded port areas to the streets of Swedish cities, as criminal organisations fight for control over distribution networks. Innocent bystanders are often caught in this violence, underscoring the urgency of action.\\nWe see similar patterns across Europe: drug markets in Brussel's streets, gang wars in Germany and France, threats to port workers in the Netherlands, drug-related killings in Spain and the Western Balkans. This is a global phenomenon that needs to be tackled through stronger cross-border cooperation within the EU and with third countries. Drugs are now Europe's most lucrative criminal market, worth EUR 31 billion annually, and 70 % of organised crime groups use corruption to enable their crimes.\\nThe Commission will put forward an EU strategy against corruption. Money is the lifeblood that drives and sustains all these criminal activities. Our response to organised crime must be clear: disrupt their finances, take down their bankers and brokers, tackle the infiltration in the legal economy and disrupt their corrupt networks.\\nSince last spring, we have new confiscation rules to eliminate the profits of criminal groups. We need to follow the money to get to those who are behind the crimes. Any investigation should pursue arrests and asset recovery as two sides of the same coin. With Eurojust we need to enhance judicial cooperation within the Union and beyond its borders. The rapid transposition of the new Asset Recovery Directive will provide stronger tools to confiscate illicit profits. It will also strengthen the asset recovery offices to identify, trace and freeze criminal assets.\\nThe Commission will step up the fight against serious and organised crime with the forthcoming European internal security strategy. The strategy will cover all forms of organised crime online and offline. We plan to involve all stakeholders in a 'whole of society' approach to be more effective in dismantling high-risk criminal networks and their ringleaders. We will propose to revise the rules to fight organised crime, starting with an updated definition of 'organised crime' and strong investigative tools. The strategy will build on the serious and organised crime threat assessment that Europol will present in the spring. We will enhance Europol support to Member State investigations, especially in areas where the authorities need it the most. We will strengthen Frontex to ensure it can protect our borders in all circumstances.\\nAs regards the online dimension, online service providers have a duty to protect their users online. We will continue to strongly enforce the Digital Services Act, which establishes effective measures for tackling illegal content and mitigating societal risks online. And we will continue to step up our efforts in disrupting the recruitment of young people online by organised criminal gangs. Next year we will also set out the framework for an EU critical communication system to strengthen internal security and preparedness.\\nWe know that many of the threats to our internal security originate from outside the EU. Security within the Union cannot be achieved without targeted and comprehensive external action through third country partnerships that also benefit our security. The strategy will also address cross-cutting security challenges and hybrid threats such as border management, the weaponisation of migration, and countering sabotage and espionage.\\nHonourable Members, as one of the first deliverables of the new internal security strategy, the Commission will launch a new EU action plan against firearms trafficking with more pressure on criminal markets and safeguarding the illicit market. Illicit firearms feed organised crime within the EU, and are regularly used by lone actors. The EU already has rules on the illegal possession and acquisition of firearms and rules on the legal import, export and transit of firearms. However, there are no EU rules on the definition of criminal offences and penalties on firearms-related crimes. This has to change.\\nThe fight against drug trafficking must also remain a top priority. For this, it is paramount to tackle the constant inflow of drugs to our continent, mainly through our ports. Over 90 million containers are processed yearly in EU ports. Only a small percentage are inspected, leaving room for criminal exploitation. Sweden, as a major maritime destination and transit country is not immune to this threat. We will build on the work set out in the EU roadmap and the EU Ports Alliance to dismantle criminal business models and to shut down supply routes. Currently, 33 ports, including Helsingborg, Gothenburg and Stockholm are members, and the list is growing.\\nThe challenges facing the Union are increasingly complex, interconnected and transnational. This means that we need to approach security in an integrated way, taking all relevant threats, including hybrid ones, into consideration. Internal security is our shared responsibility, and we want the forthcoming strategy to be also the Parliament's strategy. We count on your cooperation to make rapid progress on our common agenda.\\n\\nTomas Tobé, för PPE gruppen. – Fru talman! Det brutala massmordet i Örebro den svarta dagen den 4 februari var utfört av en enskild gärningsman. Men Sverige är också utsatt för en våldsvåg av sällan skådat slag. Bombningar av hederliga människors bostadshus, närmast dag efter dag, regisserade av hänsynslösa gängkriminella som inte tycks sky några medel.\\nDen svenska regeringen genomför nu en helt nödvändig omläggning av rättspolitiken för att krossa gängen. Men vi måste också göra mer på europeisk nivå. 70 % av de kriminella nätverken verkar över gränserna. Gängledare samordnar attacker från utlandet. Vapen och droger flödar. Det sprängs och det skjuts.\\nDetta är gränsöverskridande problem som inget medlemsland ska behöva möta ensamt. Därför menar vi i EPP att det nu behövs en europeisk säkerhetspakt mot organiserad brottslighet. Dra in den fria rörligheten för kriminella. Se till att det inte lönar sig att begå brott. Stärk det europeiska polissamarbetet; gör Europol både starkare och operativt.\\nVi kan och vi ska göra Sverige och Europa tryggt. Kommissionen har lovat en tuffare strategi mot brottslighet. EPP kommer se till att ni levererar.\\n\\n Evin Incir, on behalf of the S&D Group. – Madam President, politics must join forces across party lines to break the cycle of violence. This painful reality is the reason why I decided to engage in politics 25 years ago. Since then, the situation has unfortunately only worsened. More children have become both victims and perpetrators to violence.\\nLast year alone, 44 people lost their lives to shootings, and, alarmingly, the number of children under 15 suspected of involvement in murder cases surged by 200 % in comparison to the year before in Sweden. Just in the first month of this year, we witnessed 33 bombings. The perpetrators are nowadays so young that the term 'child soldiers' has become a buzzword. Gang violence is creeping down in age, instilling fear in our neighbourhoods and robbing children of their childhood. No one should wake up to a sound of a bomb, instead of a gentle ring of a clock. And let's be clear – no one is born a child soldier.\\nOur actions as lawmakers matter. The current Swedish right‑wing and far‑right Government looks to Denmark's hard gang laws – like visitation zones and harsh penalties – but neglects the essential ingredient of Denmark's success: social investments in schools and communities. A school that provides every child with the opportunity to succeed is our most powerful weapon against gang recruitment. It is also absurd that criminals in 2025 can start businesses and exploit the Swedish welfare system, while the parties in government and their supporters in Sweden Democrats are watching.\\nWhere is the crisis commission that we have asked for? Also, the EU has an important role in putting an end to the cross‑border gang crime, which poses a serious threat to all our Member States. According to Europol, 70 % of gangs in the EU operate in at least three countries simultaneously. I'm glad that the conservative EPP Group has woken up and realised the importance of acting, but yet they have only presented what they call 'European security pact against organised crime', which is more or less a copy paste of former Commissioner Ylva Johansson's 'EU roadmap to fight organised crime and drug trafficking'.\\nInstead of creating new titles on existing measures, we social democrats demand a specific strategy against recruitment, with a coordinator working alongside European authorities such as Europol and Eurojust to prevent children and young people from falling into the claws of the gangs. Politics must unite across party lines, and so must other parts of the society, such as the social media platforms.\\nWe therefore need an EU anti‑organised crime law, including addressing the social media platforms responsibilities. It is unacceptable that these platforms are exploited for recruiting child soldiers. Tech giants must be held accountable. Their platforms are today's modern streets and squares. It is about time for the society to get as organised as organised crime. The society must always be stronger than organised crime.\""
   ]
  },
  {
   "cell_type": "markdown",
   "metadata": {},
   "source": [
    "#### rhetoric analysis"
   ]
  },
  {
   "cell_type": "code",
   "execution_count": null,
   "metadata": {},
   "outputs": [
    {
     "data": {
      "text/markdown": [
       "### Topic of Debate: Escalation of gang violence in Sweden and strengthening the fight against organised crime"
      ],
      "text/plain": [
       "<IPython.core.display.Markdown object>"
      ]
     },
     "metadata": {},
     "output_type": "display_data"
    },
    {
     "data": {
      "text/markdown": [
       "President. – The next item on the agenda is the debate on the Commission statement on the escalation of gang violence in Sweden and strengthening the fight against organised crime\n",
       "\n",
       " Maria Luís Albuquerque, Member of the Commission. – Madam President, honourable Members, the horrendous attack in Örebro – one of the worst attacks in Swedish history – has shocked as all to the core. And I would like to express my heartfelt condolences to the families and friends who lost their loved ones. Such attacks have no place in Europe.\n",
       "The first thing European citizens expect from us is protection. That is also true when it comes to the topic of today's debate: gang violence. Gang violence is not only a big threat to life and security; it is a huge threat to democracy and society too, and it is part of the bigger structures of organised crime infiltrating our legal economies and processes.\n",
       "As outlined by President von der Leyen at the beginning of this mandate, there can be no hiding place for organised crime in Europe, either offline or online. The threat to our internal security by organised crime networks is unprecedented and increasingly visible. And it is not only an impression that we get following the news – the figures speak for themselves. Last year, Europol identified 821 high-risk criminal networks active in the EU. Nearly 90 % of them have infiltrated the legal economy, running businesses, investing in real estate. They are strong and operate freely across borders, including online. They are active in drug trafficking, fraud, property crime, migrant smuggling, and trafficking in human beings. To avoid prosecution, these groups are increasingly recruiting young people to perpetrate even violent crimes.\n",
       "Most of this violence is directly linked to organised crime and drug trafficking. Drug-related violence has spread from secluded port areas to the streets of Swedish cities, as criminal organisations fight for control over distribution networks. Innocent bystanders are often caught in this violence, underscoring the urgency of action.\n",
       "We see similar patterns across Europe: drug markets in Brussel's streets, gang wars in Germany and France, threats to port workers in the Netherlands, drug-related killings in Spain and the Western Balkans. This is a global phenomenon that needs to be tackled through stronger cross-border cooperation within the EU and with third countries. Drugs are now Europe's most lucrative criminal market, worth EUR 31 billion annually, and 70 % of organised crime groups use corruption to enable their crimes.\n",
       "The Commission will put forward an EU strategy against corruption. Money is the lifeblood that drives and sustains all these criminal activities. Our response to organised crime must be clear: disrupt their finances, take down their bankers and brokers, tackle the infiltration in the legal economy and disrupt their corrupt networks.\n",
       "Since last spring, we have new confiscation rules to eliminate the profits of criminal groups. We need to follow the money to get to those who are behind the crimes. Any investigation should pursue arrests and asset recovery as two sides of the same coin. With Eurojust we need to enhance judicial cooperation within the Union and beyond its borders. The rapid transposition of the new Asset Recovery Directive will provide stronger tools to confiscate illicit profits. It will also strengthen the asset recovery offices to identify, trace and freeze criminal assets.\n",
       "The Commission will step up the fight against serious and organised crime with the forthcoming European internal security strategy. The strategy will cover all forms of organised crime online and offline. We plan to involve all stakeholders in a 'whole of society' approach to be more effective in dismantling high-risk criminal networks and their ringleaders. We will propose to revise the rules to fight organised crime, starting with an updated definition of 'organised crime' and strong investigative tools. The strategy will build on the serious and organised crime threat assessment that Europol will present in the spring. We will enhance Europol support to Member State investigations, especially in areas where the authorities need it the most. We will strengthen Frontex to ensure it can protect our borders in all circumstances.\n",
       "As regards the online dimension, online service providers have a duty to protect their users online. We will continue to strongly enforce the Digital Services Act, which establishes effective measures for tackling illegal content and mitigating societal risks online. And we will continue to step up our efforts in disrupting the recruitment of young people online by organised criminal gangs. Next year we will also set out the framework for an EU critical communication system to strengthen internal security and preparedness.\n",
       "We know that many of the threats to our internal security originate from outside the EU. Security within the Union cannot be achieved without targeted and comprehensive external action through third country partnerships that also benefit our security. The strategy will also address cross-cutting security challenges and hybrid threats such as border management, the weaponisation of migration, and countering sabotage and espionage.\n",
       "Honourable Members, as one of the first deliverables of the new internal security strategy, the Commission will launch a new EU action plan against firearms trafficking with more pressure on criminal markets and safeguarding the illicit market. Illicit firearms feed organised crime within the EU, and are regularly used by lone actors. The EU already has rules on the illegal possession and acquisition of firearms and rules on the legal import, export and transit of firearms. However, there are no EU rules on the definition of criminal offences and penalties on firearms-related crimes. This has to change.\n",
       "The fight against drug trafficking must also remain a top priority. For this, it is paramount to tackle the constant inflow of drugs to our continent, mainly through our ports. Over 90 million containers are processed yearly in EU ports. Only a small percentage are inspected, leaving room for criminal exploitation. Sweden, as a major maritime destination and transit country is not immune to this threat. We will build on the work set out in the EU roadmap and the EU Ports Alliance to dismantle criminal business models and to shut down supply routes. Currently, 33 ports, including Helsingborg, Gothenburg and Stockholm are members, and the list is growing.\n",
       "The challenges facing the Union are increasingly complex, interconnected and transnational. This means that we need to approach security in an integrated way, taking all relevant threats, including hybrid ones, into consideration. Internal security is our shared responsibility, and we want the forthcoming strategy to be also the Parliament's strategy. We count on your cooperation to make rapid progress on our common agenda.\n",
       "\n",
       "Tomas Tobé, för PPE gruppen. – Fru talman! Det brutala massmordet i Örebro den svarta dagen den 4 februari var utfört av en enskild gärningsman. Men Sverige är också utsatt för en våldsvåg av sällan skådat slag. Bombningar av hederliga människors bostadshus, närmast dag efter dag, regisserade av hänsynslösa gängkriminella som inte tycks sky några medel.\n",
       "Den svenska regeringen genomför nu en helt nödvändig omläggning av rättspolitiken för att krossa gängen. Men vi måste också göra mer på europeisk nivå. 70 % av de kriminella nätverken verkar över gränserna. Gängledare samordnar attacker från utlandet. Vapen och droger flödar. Det sprängs och det skjuts.\n",
       "Detta är gränsöverskridande problem som inget medlemsland ska behöva möta ensamt. Därför menar vi i EPP att det nu behövs en europeisk säkerhetspakt mot organiserad brottslighet. Dra in den fria rörligheten för kriminella. Se till att det inte lönar sig att begå brott. Stärk det europeiska polissamarbetet; gör Europol både starkare och operativt.\n",
       "Vi kan och vi ska göra Sverige och Europa tryggt. Kommissionen har lovat en tuffare strategi mot brottslighet. EPP kommer se till att ni levererar.\n",
       "\n",
       " Evin Incir, on behalf of the S&D Group. – Madam President, politics must join forces across party lines to break the cycle of violence. This painful reality is the reason why I decided to engage in politics 25 years ago. Since then, the situation has unfortunately only worsened. More children have become both victims and perpetrators to violence.\n",
       "Last year alone, 44 people lost their lives to shootings, and, alarmingly, the number of children under 15 suspected of involvement in murder cases surged by 200 % in comparison to the year before in Sweden. Just in the first month of this year, we witnessed 33 bombings. The perpetrators are nowadays so young that the term 'child soldiers' has become a buzzword. Gang violence is creeping down in age, instilling fear in our neighbourhoods and robbing children of their childhood. No one should wake up to a sound of a bomb, instead of a gentle ring of a clock. And let's be clear – no one is born a child soldier.\n",
       "Our actions as lawmakers matter. The current Swedish right‑wing and far‑right Government looks to Denmark's hard gang laws – like visitation zones and harsh penalties – but neglects the essential ingredient of Denmark's success: social investments in schools and communities. A school that provides every child with the opportunity to succeed is our most powerful weapon against gang recruitment. It is also absurd that criminals in 2025 can start businesses and exploit the Swedish welfare system, while the parties in government and their supporters in Sweden Democrats are watching.\n",
       "Where is the crisis commission that we have asked for? Also, the EU has an important role in putting an end to the cross‑border gang crime, which poses a serious threat to all our Member States. According to Europol, 70 % of gangs in the EU operate in at least three countries simultaneously. I'm glad that the conservative EPP Group has woken up and realised the importance of acting, but yet they have only presented what they call 'European security pact against organised crime', which is more or less a copy paste of former Commissioner Ylva Johansson's 'EU roadmap to fight organised crime and drug trafficking'.\n",
       "Instead of creating new titles on existing measures, we social democrats demand a specific strategy against recruitment, with a coordinator working alongside European authorities such as Europol and Eurojust to prevent children and young people from falling into the claws of the gangs. Politics must unite across party lines, and so must other parts of the society, such as the social media platforms.\n",
       "We therefore need an EU anti‑organised crime law, including addressing the social media platforms responsibilities. It is unacceptable that these platforms are exploited for recruiting child soldiers. Tech giants must be held accountable. Their platforms are today's modern streets and squares. It is about time for the society to get as organised as organised crime. The society must always be stronger than organised crime."
      ],
      "text/plain": [
       "<IPython.core.display.Markdown object>"
      ]
     },
     "metadata": {},
     "output_type": "display_data"
    },
    {
     "data": {
      "text/html": [
       "<h3>Rhetorical Strategies (Overall)</h3><table><tr><th>Quote</th><th>Strategy</th></tr><tr><td>the horrendous attack in Örebro – one of the worst attacks in Swedish history – has shocked as all to the core.</td><td>Pathos</td></tr><tr><td>Such attacks have no place in Europe.</td><td>Ethos</td></tr><tr><td>Most of this violence is directly linked to organised crime and drug trafficking.</td><td>Logos</td></tr><tr><td>Drugs are now Europe's most lucrative criminal market, worth EUR 31 billion annually.</td><td>Logos</td></tr><tr><td>It is unacceptable that these platforms are exploited for recruiting child soldiers.</td><td>Pathos</td></tr><tr><td>No one should wake up to a sound of a bomb, instead of a gentle ring of a clock.</td><td>Pathos</td></tr></table><h3>Fallacies (Overall)</h3><table><tr><th>Quote</th><th>Fallacy</th></tr><tr><td>we must also do more on the european level.</td><td>Oversimplification</td></tr><tr><td>the current Swedish right-wing and far-right Government looks to Denmark's hard gang laws but neglects the essential ingredient of Denmark's success: social investments</td><td>Sweeping Generalization</td></tr><tr><td>It is absurd that criminals in 2025 can start businesses and exploit the Swedish welfare system while parties in government are watching.</td><td>Strawman</td></tr></table>"
      ],
      "text/plain": [
       "<IPython.core.display.HTML object>"
      ]
     },
     "metadata": {},
     "output_type": "display_data"
    },
    {
     "data": {
      "text/html": [
       "<svg id=\"mermaid-svg\" width=\"100%\" xmlns=\"http://www.w3.org/2000/svg\" class=\"flowchart\" style=\"max-width: 1516px;\" viewBox=\"0 0 1516 718\" role=\"graphics-document document\" aria-roledescription=\"flowchart-v2\" xmlns:xlink=\"http://www.w3.org/1999/xlink\"><style xmlns=\"http://www.w3.org/1999/xhtml\">@import url(\"https://cdnjs.cloudflare.com/ajax/libs/font-awesome/6.7.2/css/all.min.css\");</style><style>#mermaid-svg{font-family:\"trebuchet ms\",verdana,arial,sans-serif;font-size:16px;fill:#333;}#mermaid-svg .error-icon{fill:#552222;}#mermaid-svg .error-text{fill:#552222;stroke:#552222;}#mermaid-svg .edge-thickness-normal{stroke-width:1px;}#mermaid-svg .edge-thickness-thick{stroke-width:3.5px;}#mermaid-svg .edge-pattern-solid{stroke-dasharray:0;}#mermaid-svg .edge-thickness-invisible{stroke-width:0;fill:none;}#mermaid-svg .edge-pattern-dashed{stroke-dasharray:3;}#mermaid-svg .edge-pattern-dotted{stroke-dasharray:2;}#mermaid-svg .marker{fill:#333333;stroke:#333333;}#mermaid-svg .marker.cross{stroke:#333333;}#mermaid-svg svg{font-family:\"trebuchet ms\",verdana,arial,sans-serif;font-size:16px;}#mermaid-svg p{margin:0;}#mermaid-svg .label{font-family:\"trebuchet ms\",verdana,arial,sans-serif;color:#333;}#mermaid-svg .cluster-label text{fill:#333;}#mermaid-svg .cluster-label span{color:#333;}#mermaid-svg .cluster-label span p{background-color:transparent;}#mermaid-svg .label text,#mermaid-svg span{fill:#333;color:#333;}#mermaid-svg .node rect,#mermaid-svg .node circle,#mermaid-svg .node ellipse,#mermaid-svg .node polygon,#mermaid-svg .node path{fill:#ECECFF;stroke:#9370DB;stroke-width:1px;}#mermaid-svg .rough-node .label text,#mermaid-svg .node .label text,#mermaid-svg .image-shape .label,#mermaid-svg .icon-shape .label{text-anchor:middle;}#mermaid-svg .node .katex path{fill:#000;stroke:#000;stroke-width:1px;}#mermaid-svg .rough-node .label,#mermaid-svg .node .label,#mermaid-svg .image-shape .label,#mermaid-svg .icon-shape .label{text-align:center;}#mermaid-svg .node.clickable{cursor:pointer;}#mermaid-svg .root .anchor path{fill:#333333!important;stroke-width:0;stroke:#333333;}#mermaid-svg .arrowheadPath{fill:#333333;}#mermaid-svg .edgePath .path{stroke:#333333;stroke-width:2.0px;}#mermaid-svg .flowchart-link{stroke:#333333;fill:none;}#mermaid-svg .edgeLabel{background-color:rgba(232,232,232, 0.8);text-align:center;}#mermaid-svg .edgeLabel p{background-color:rgba(232,232,232, 0.8);}#mermaid-svg .edgeLabel rect{opacity:0.5;background-color:rgba(232,232,232, 0.8);fill:rgba(232,232,232, 0.8);}#mermaid-svg .labelBkg{background-color:rgba(232, 232, 232, 0.5);}#mermaid-svg .cluster rect{fill:#ffffde;stroke:#aaaa33;stroke-width:1px;}#mermaid-svg .cluster text{fill:#333;}#mermaid-svg .cluster span{color:#333;}#mermaid-svg div.mermaidTooltip{position:absolute;text-align:center;max-width:200px;padding:2px;font-family:\"trebuchet ms\",verdana,arial,sans-serif;font-size:12px;background:hsl(80, 100%, 96.2745098039%);border:1px solid #aaaa33;border-radius:2px;pointer-events:none;z-index:100;}#mermaid-svg .flowchartTitleText{text-anchor:middle;font-size:18px;fill:#333;}#mermaid-svg rect.text{fill:none;stroke-width:0;}#mermaid-svg .icon-shape,#mermaid-svg .image-shape{background-color:rgba(232,232,232, 0.8);text-align:center;}#mermaid-svg .icon-shape p,#mermaid-svg .image-shape p{background-color:rgba(232,232,232, 0.8);padding:2px;}#mermaid-svg .icon-shape rect,#mermaid-svg .image-shape rect{opacity:0.5;background-color:rgba(232,232,232, 0.8);fill:rgba(232,232,232, 0.8);}#mermaid-svg :root{--mermaid-font-family:\"trebuchet ms\",verdana,arial,sans-serif;}</style><g><marker id=\"mermaid-svg_flowchart-v2-pointEnd\" class=\"marker flowchart-v2\" viewBox=\"0 0 10 10\" refX=\"5\" refY=\"5\" markerUnits=\"userSpaceOnUse\" markerWidth=\"8\" markerHeight=\"8\" orient=\"auto\"><path d=\"M 0 0 L 10 5 L 0 10 z\" class=\"arrowMarkerPath\" style=\"stroke-width: 1; stroke-dasharray: 1, 0;\"/></marker><marker id=\"mermaid-svg_flowchart-v2-pointStart\" class=\"marker flowchart-v2\" viewBox=\"0 0 10 10\" refX=\"4.5\" refY=\"5\" markerUnits=\"userSpaceOnUse\" markerWidth=\"8\" markerHeight=\"8\" orient=\"auto\"><path d=\"M 0 5 L 10 10 L 10 0 z\" class=\"arrowMarkerPath\" style=\"stroke-width: 1; stroke-dasharray: 1, 0;\"/></marker><marker id=\"mermaid-svg_flowchart-v2-circleEnd\" class=\"marker flowchart-v2\" viewBox=\"0 0 10 10\" refX=\"11\" refY=\"5\" markerUnits=\"userSpaceOnUse\" markerWidth=\"11\" markerHeight=\"11\" orient=\"auto\"><circle cx=\"5\" cy=\"5\" r=\"5\" class=\"arrowMarkerPath\" style=\"stroke-width: 1; stroke-dasharray: 1, 0;\"/></marker><marker id=\"mermaid-svg_flowchart-v2-circleStart\" class=\"marker flowchart-v2\" viewBox=\"0 0 10 10\" refX=\"-1\" refY=\"5\" markerUnits=\"userSpaceOnUse\" markerWidth=\"11\" markerHeight=\"11\" orient=\"auto\"><circle cx=\"5\" cy=\"5\" r=\"5\" class=\"arrowMarkerPath\" style=\"stroke-width: 1; stroke-dasharray: 1, 0;\"/></marker><marker id=\"mermaid-svg_flowchart-v2-crossEnd\" class=\"marker cross flowchart-v2\" viewBox=\"0 0 11 11\" refX=\"12\" refY=\"5.2\" markerUnits=\"userSpaceOnUse\" markerWidth=\"11\" markerHeight=\"11\" orient=\"auto\"><path d=\"M 1,1 l 9,9 M 10,1 l -9,9\" class=\"arrowMarkerPath\" style=\"stroke-width: 2; stroke-dasharray: 1, 0;\"/></marker><marker id=\"mermaid-svg_flowchart-v2-crossStart\" class=\"marker cross flowchart-v2\" viewBox=\"0 0 11 11\" refX=\"-1\" refY=\"5.2\" markerUnits=\"userSpaceOnUse\" markerWidth=\"11\" markerHeight=\"11\" orient=\"auto\"><path d=\"M 1,1 l 9,9 M 10,1 l -9,9\" class=\"arrowMarkerPath\" style=\"stroke-width: 2; stroke-dasharray: 1, 0;\"/></marker><g class=\"root\"><g class=\"clusters\"/><g class=\"edgePaths\"><path d=\"M628,110.957L572.167,122.964C516.333,134.971,404.667,158.986,348.833,174.493C293,190,293,197,293,200.5L293,204\" id=\"L_A_B_0\" class=\" edge-thickness-normal edge-pattern-solid edge-thickness-normal edge-pattern-solid flowchart-link\" style=\"\" marker-end=\"url(#mermaid-svg_flowchart-v2-pointEnd)\"/><path d=\"M874.25,158L880.708,162.167C887.167,166.333,900.083,174.667,906.542,184.333C913,194,913,205,913,210.5L913,216\" id=\"L_A_C_1\" class=\" edge-thickness-normal edge-pattern-solid edge-thickness-normal edge-pattern-solid flowchart-link\" style=\"\" marker-end=\"url(#mermaid-svg_flowchart-v2-pointEnd)\"/><path d=\"M888,110.957L943.833,122.964C999.667,134.971,1111.333,158.986,1167.167,176.493C1223,194,1223,205,1223,210.5L1223,216\" id=\"L_A_D_2\" class=\" edge-thickness-normal edge-pattern-solid edge-thickness-normal edge-pattern-solid flowchart-link\" style=\"\" marker-end=\"url(#mermaid-svg_flowchart-v2-pointEnd)\"/><path d=\"M176.75,358L170.292,362.167C163.833,366.333,150.917,374.667,144.458,384.333C138,394,138,405,138,410.5L138,416\" id=\"L_B_E_3\" class=\" edge-thickness-normal edge-pattern-solid edge-thickness-normal edge-pattern-solid flowchart-link\" style=\"\" marker-end=\"url(#mermaid-svg_flowchart-v2-pointEnd)\"/><path d=\"M409.25,358L415.708,362.167C422.167,366.333,435.083,374.667,441.542,384.333C448,394,448,405,448,410.5L448,416\" id=\"L_B_F_4\" class=\" edge-thickness-normal edge-pattern-solid edge-thickness-normal edge-pattern-solid flowchart-link\" style=\"\" marker-end=\"url(#mermaid-svg_flowchart-v2-pointEnd)\"/><path d=\"M815.35,346L805.792,352.167C796.233,358.333,777.117,370.667,767.558,382.333C758,394,758,405,758,410.5L758,416\" id=\"L_C_G_5\" class=\" edge-thickness-normal edge-pattern-solid edge-thickness-normal edge-pattern-solid flowchart-link\" style=\"\" marker-end=\"url(#mermaid-svg_flowchart-v2-pointEnd)\"/><path d=\"M758,522L758,528.167C758,534.333,758,546.667,758,556.333C758,566,758,573,758,576.5L758,580\" id=\"L_G_H_6\" class=\" edge-thickness-normal edge-pattern-solid edge-thickness-normal edge-pattern-solid flowchart-link\" style=\"\" marker-end=\"url(#mermaid-svg_flowchart-v2-pointEnd)\"/><path d=\"M1010.65,346L1020.208,352.167C1029.767,358.333,1048.883,370.667,1058.442,380.333C1068,390,1068,397,1068,400.5L1068,404\" id=\"L_C_I_7\" class=\" edge-thickness-normal edge-pattern-solid edge-thickness-normal edge-pattern-solid flowchart-link\" style=\"\" marker-end=\"url(#mermaid-svg_flowchart-v2-pointEnd)\"/><path d=\"M1068,534L1068,538.167C1068,542.333,1068,550.667,1068,560.333C1068,570,1068,581,1068,586.5L1068,592\" id=\"L_I_J_8\" class=\" edge-thickness-normal edge-pattern-solid edge-thickness-normal edge-pattern-solid flowchart-link\" style=\"\" marker-end=\"url(#mermaid-svg_flowchart-v2-pointEnd)\"/></g><g class=\"edgeLabels\"><g class=\"edgeLabel\"><g class=\"label\" transform=\"translate(0, 0)\"><foreignObject width=\"0\" height=\"0\"><div xmlns=\"http://www.w3.org/1999/xhtml\" class=\"labelBkg\" style=\"display: table-cell; white-space: nowrap; line-height: 1.5; max-width: 200px; text-align: center;\"><span class=\"edgeLabel \"></span></div></foreignObject></g></g><g class=\"edgeLabel\"><g class=\"label\" transform=\"translate(0, 0)\"><foreignObject width=\"0\" height=\"0\"><div xmlns=\"http://www.w3.org/1999/xhtml\" class=\"labelBkg\" style=\"display: table-cell; white-space: nowrap; line-height: 1.5; max-width: 200px; text-align: center;\"><span class=\"edgeLabel \"></span></div></foreignObject></g></g><g class=\"edgeLabel\"><g class=\"label\" transform=\"translate(0, 0)\"><foreignObject width=\"0\" height=\"0\"><div xmlns=\"http://www.w3.org/1999/xhtml\" class=\"labelBkg\" style=\"display: table-cell; white-space: nowrap; line-height: 1.5; max-width: 200px; text-align: center;\"><span class=\"edgeLabel \"></span></div></foreignObject></g></g><g class=\"edgeLabel\"><g class=\"label\" transform=\"translate(0, 0)\"><foreignObject width=\"0\" height=\"0\"><div xmlns=\"http://www.w3.org/1999/xhtml\" class=\"labelBkg\" style=\"display: table-cell; white-space: nowrap; line-height: 1.5; max-width: 200px; text-align: center;\"><span class=\"edgeLabel \"></span></div></foreignObject></g></g><g class=\"edgeLabel\"><g class=\"label\" transform=\"translate(0, 0)\"><foreignObject width=\"0\" height=\"0\"><div xmlns=\"http://www.w3.org/1999/xhtml\" class=\"labelBkg\" style=\"display: table-cell; white-space: nowrap; line-height: 1.5; max-width: 200px; text-align: center;\"><span class=\"edgeLabel \"></span></div></foreignObject></g></g><g class=\"edgeLabel\"><g class=\"label\" transform=\"translate(0, 0)\"><foreignObject width=\"0\" height=\"0\"><div xmlns=\"http://www.w3.org/1999/xhtml\" class=\"labelBkg\" style=\"display: table-cell; white-space: nowrap; line-height: 1.5; max-width: 200px; text-align: center;\"><span class=\"edgeLabel \"></span></div></foreignObject></g></g><g class=\"edgeLabel\"><g class=\"label\" transform=\"translate(0, 0)\"><foreignObject width=\"0\" height=\"0\"><div xmlns=\"http://www.w3.org/1999/xhtml\" class=\"labelBkg\" style=\"display: table-cell; white-space: nowrap; line-height: 1.5; max-width: 200px; text-align: center;\"><span class=\"edgeLabel \"></span></div></foreignObject></g></g><g class=\"edgeLabel\"><g class=\"label\" transform=\"translate(0, 0)\"><foreignObject width=\"0\" height=\"0\"><div xmlns=\"http://www.w3.org/1999/xhtml\" class=\"labelBkg\" style=\"display: table-cell; white-space: nowrap; line-height: 1.5; max-width: 200px; text-align: center;\"><span class=\"edgeLabel \"></span></div></foreignObject></g></g><g class=\"edgeLabel\"><g class=\"label\" transform=\"translate(0, 0)\"><foreignObject width=\"0\" height=\"0\"><div xmlns=\"http://www.w3.org/1999/xhtml\" class=\"labelBkg\" style=\"display: table-cell; white-space: nowrap; line-height: 1.5; max-width: 200px; text-align: center;\"><span class=\"edgeLabel \"></span></div></foreignObject></g></g></g><g class=\"nodes\"><g class=\"node default  \" id=\"flowchart-A-0\" transform=\"translate(758, 83)\"><rect class=\"basic label-container\" style=\"\" x=\"-130\" y=\"-75\" width=\"260\" height=\"150\"/><g class=\"label\" style=\"\" transform=\"translate(-100, -60)\"><rect/><foreignObject width=\"200\" height=\"120\"><div xmlns=\"http://www.w3.org/1999/xhtml\" style=\"display: table; white-space: break-spaces; line-height: 1.5; max-width: 200px; text-align: center; width: 200px;\"><span class=\"nodeLabel \"><p>Conclusion: A comprehensive approach is necessary to combat gang violence in Sweden and organized crime</p></span></div></foreignObject></g></g><g class=\"node default  \" id=\"flowchart-B-1\" transform=\"translate(293, 283)\"><rect class=\"basic label-container\" style=\"\" x=\"-130\" y=\"-75\" width=\"260\" height=\"150\"/><g class=\"label\" style=\"\" transform=\"translate(-100, -60)\"><rect/><foreignObject width=\"200\" height=\"120\"><div xmlns=\"http://www.w3.org/1999/xhtml\" style=\"display: table; white-space: break-spaces; line-height: 1.5; max-width: 200px; text-align: center; width: 200px;\"><span class=\"nodeLabel \"><p>Premise 1: Gang violence and organized crime present a significant threat to security and democracy in Europe</p></span></div></foreignObject></g></g><g class=\"node default  \" id=\"flowchart-C-3\" transform=\"translate(913, 283)\"><rect class=\"basic label-container\" style=\"\" x=\"-130\" y=\"-63\" width=\"260\" height=\"126\"/><g class=\"label\" style=\"\" transform=\"translate(-100, -48)\"><rect/><foreignObject width=\"200\" height=\"96\"><div xmlns=\"http://www.w3.org/1999/xhtml\" style=\"display: table; white-space: break-spaces; line-height: 1.5; max-width: 200px; text-align: center; width: 200px;\"><span class=\"nodeLabel \"><p>Premise 2: Current strategies and laws are inadequate to combat transnational crime</p></span></div></foreignObject></g></g><g class=\"node default  \" id=\"flowchart-D-5\" transform=\"translate(1223, 283)\"><rect class=\"basic label-container\" style=\"\" x=\"-130\" y=\"-63\" width=\"260\" height=\"126\"/><g class=\"label\" style=\"\" transform=\"translate(-100, -48)\"><rect/><foreignObject width=\"200\" height=\"96\"><div xmlns=\"http://www.w3.org/1999/xhtml\" style=\"display: table; white-space: break-spaces; line-height: 1.5; max-width: 200px; text-align: center; width: 200px;\"><span class=\"nodeLabel \"><p>Premise 3: Cooperation between EU nations and law enforcement must be increased</p></span></div></foreignObject></g></g><g class=\"node default  \" id=\"flowchart-E-7\" transform=\"translate(138, 471)\"><rect class=\"basic label-container\" style=\"\" x=\"-130\" y=\"-51\" width=\"260\" height=\"102\"/><g class=\"label\" style=\"\" transform=\"translate(-100, -36)\"><rect/><foreignObject width=\"200\" height=\"72\"><div xmlns=\"http://www.w3.org/1999/xhtml\" style=\"display: table; white-space: break-spaces; line-height: 1.5; max-width: 200px; text-align: center; width: 200px;\"><span class=\"nodeLabel \"><p>Co-premise 1: Drug-related violence is escalating in Sweden and across Europe</p></span></div></foreignObject></g></g><g class=\"node default  \" id=\"flowchart-F-9\" transform=\"translate(448, 471)\"><rect class=\"basic label-container\" style=\"\" x=\"-130\" y=\"-51\" width=\"260\" height=\"102\"/><g class=\"label\" style=\"\" transform=\"translate(-100, -36)\"><rect/><foreignObject width=\"200\" height=\"72\"><div xmlns=\"http://www.w3.org/1999/xhtml\" style=\"display: table; white-space: break-spaces; line-height: 1.5; max-width: 200px; text-align: center; width: 200px;\"><span class=\"nodeLabel \"><p>Co-premise 2: Innocent civilians are often victims of gang violence</p></span></div></foreignObject></g></g><g class=\"node default  \" id=\"flowchart-G-11\" transform=\"translate(758, 471)\"><rect class=\"basic label-container\" style=\"\" x=\"-130\" y=\"-51\" width=\"260\" height=\"102\"/><g class=\"label\" style=\"\" transform=\"translate(-100, -36)\"><rect/><foreignObject width=\"200\" height=\"72\"><div xmlns=\"http://www.w3.org/1999/xhtml\" style=\"display: table; white-space: break-spaces; line-height: 1.5; max-width: 200px; text-align: center; width: 200px;\"><span class=\"nodeLabel \"><p>Objection 1: Some argue that current laws are sufficient</p></span></div></foreignObject></g></g><g class=\"node default  \" id=\"flowchart-H-13\" transform=\"translate(758, 647)\"><rect class=\"basic label-container\" style=\"\" x=\"-130\" y=\"-63\" width=\"260\" height=\"126\"/><g class=\"label\" style=\"\" transform=\"translate(-100, -48)\"><rect/><foreignObject width=\"200\" height=\"96\"><div xmlns=\"http://www.w3.org/1999/xhtml\" style=\"display: table; white-space: break-spaces; line-height: 1.5; max-width: 200px; text-align: center; width: 200px;\"><span class=\"nodeLabel \"><p>Counterargument 1: Data shows that current laws have not reduced crime rates</p></span></div></foreignObject></g></g><g class=\"node default  \" id=\"flowchart-I-15\" transform=\"translate(1068, 471)\"><rect class=\"basic label-container\" style=\"\" x=\"-130\" y=\"-63\" width=\"260\" height=\"126\"/><g class=\"label\" style=\"\" transform=\"translate(-100, -48)\"><rect/><foreignObject width=\"200\" height=\"96\"><div xmlns=\"http://www.w3.org/1999/xhtml\" style=\"display: table; white-space: break-spaces; line-height: 1.5; max-width: 200px; text-align: center; width: 200px;\"><span class=\"nodeLabel \"><p>Objection 2: Critics claim that focusing on punishment ignores social issues</p></span></div></foreignObject></g></g><g class=\"node default  \" id=\"flowchart-J-17\" transform=\"translate(1068, 647)\"><rect class=\"basic label-container\" style=\"\" x=\"-130\" y=\"-51\" width=\"260\" height=\"102\"/><g class=\"label\" style=\"\" transform=\"translate(-100, -36)\"><rect/><foreignObject width=\"200\" height=\"72\"><div xmlns=\"http://www.w3.org/1999/xhtml\" style=\"display: table; white-space: break-spaces; line-height: 1.5; max-width: 200px; text-align: center; width: 200px;\"><span class=\"nodeLabel \"><p>Rebuttal 1: Effective law enforcement must include social investment</p></span></div></foreignObject></g></g><g class=\"node default  \" id=\"flowchart-K-18\" transform=\"translate(1068, 83)\"><rect class=\"basic label-container\" style=\"\" x=\"-130\" y=\"-51\" width=\"260\" height=\"102\"/><g class=\"label\" style=\"\" transform=\"translate(-100, -36)\"><rect/><foreignObject width=\"200\" height=\"72\"><div xmlns=\"http://www.w3.org/1999/xhtml\" style=\"display: table; white-space: break-spaces; line-height: 1.5; max-width: 200px; text-align: center; width: 200px;\"><span class=\"nodeLabel \"><p>Inference: Strengthening laws and social policies simultaneously is essential</p></span></div></foreignObject></g></g><g class=\"node default  \" id=\"flowchart-L-19\" transform=\"translate(1378, 83)\"><rect class=\"basic label-container\" style=\"\" x=\"-130\" y=\"-75\" width=\"260\" height=\"150\"/><g class=\"label\" style=\"\" transform=\"translate(-100, -60)\"><rect/><foreignObject width=\"200\" height=\"120\"><div xmlns=\"http://www.w3.org/1999/xhtml\" style=\"display: table; white-space: break-spaces; line-height: 1.5; max-width: 200px; text-align: center; width: 200px;\"><span class=\"nodeLabel \"><p>Lemma: Successful strategies against organized crime used in other countries should be adapted to the EU context</p></span></div></foreignObject></g></g></g></g></g></svg>"
      ],
      "text/plain": [
       "<mermaid.__main__.Mermaid at 0x1159d1b50>"
      ]
     },
     "metadata": {},
     "output_type": "display_data"
    },
    {
     "data": {
      "text/markdown": [
       "### Speaker 1:"
      ],
      "text/plain": [
       "<IPython.core.display.Markdown object>"
      ]
     },
     "metadata": {},
     "output_type": "display_data"
    },
    {
     "data": {
      "text/html": [
       "<h3>Rhetorical Strategies by speaker 1</h3><table><tr><th>Quote</th><th>Strategy</th></tr><tr><td>the horrendous attack in Örebro – one of the worst attacks in Swedish history – has shocked as all to the core.</td><td>Pathos</td></tr><tr><td>Such attacks have no place in Europe.</td><td>Ethos</td></tr><tr><td>Most of this violence is directly linked to organised crime and drug trafficking.</td><td>Logos</td></tr><tr><td>Drugs are now Europe's most lucrative criminal market, worth EUR 31 billion annually.</td><td>Logos</td></tr></table><h3>Fallacies by speaker 1</h3><table><tr><th>Quote</th><th>Fallacy</th></tr><tr><td>security within the Union cannot be achieved without targeted and comprehensive external action through third country partnerships</td><td>Hasty Generalization</td></tr></table>"
      ],
      "text/plain": [
       "<IPython.core.display.HTML object>"
      ]
     },
     "metadata": {},
     "output_type": "display_data"
    }
   ],
   "source": [
    "from openai import OpenAI\n",
    "from rich.pretty import pprint as rprint\n",
    "import json\n",
    "from IPython.display import display, Markdown, HTML\n",
    "import mermaid as md\n",
    "from mermaid.graph import Graph\n",
    "\n",
    "api_keys_file = json.loads(open('api_keys.json').read())\n",
    "openapi_key = api_keys_file['openai']\n",
    "client = OpenAI(api_key = openapi_key)\n",
    "\n",
    "# topic_of_debate = \"climate change\"\n",
    "topic_of_debate = \"Escalation of gang violence in Sweden and strengthening the fight against organised crime\"\n",
    "\n",
    "completion = client.chat.completions.create(\n",
    "    model=\"gpt-4o-mini\",\n",
    "    messages=[\n",
    "        {\"role\": \"developer\", \n",
    "         \"content\": f\"You are a helpful assistant to a debate moderator and extremely knowledable in debate analysis. Help the moderator by finding rhetorical strategies and fallacies in the arguments provided. \\n\\\n",
    "            The debate is on the topic: {topic_of_debate}. The debate consists of multiple speakers and therefore, find these rhetorical strategies for each speaker.\\n\\\n",
    "            Give the quote and their corresponding type of rhetorical strategies used in the following classes: 'Ethos, Pathos, and Logos', 'repetition', 'rhetorical questions', 'hyperbole', 'insults and accusations'.\\\n",
    "            Also provide an argument map in mermaid format, with conculsion, premises, co-premises, objections, counterarguments, rebuttals, inferences and lemmas if only if available in the arument. Do not use prior knowledge.\"\n",
    "        },\n",
    "         \n",
    "        {\n",
    "            \"role\": \"user\",\n",
    "            \"content\": f\"{gang_violence_debate}\"\n",
    "        }\n",
    "    ],\n",
    "    response_format={\n",
    "        \"type\": \"json_schema\", \n",
    "        \"json_schema\": {\n",
    "            \"name\": \"moderation_help\",\n",
    "            \"strict\": True,\n",
    "            \"schema\":{\n",
    "                \"type\": \"object\",\n",
    "                \"properties\": {\n",
    "                    \"rhetorical_strategies\": {\n",
    "                        \"type\": \"array\",\n",
    "                        \"description\": \"Rhetorical stategies in the argument\",\n",
    "                        \"items\": {\"$ref\": \"#/$defs/rhetorical_strategy\"}\n",
    "                    },\n",
    "                    \"fallacies\": {\n",
    "                        \"type\": \"array\",\n",
    "                        \"description\": \"Fallacies in the argument\",\n",
    "                        \"items\": {\"$ref\": \"#/$defs/fallacy\"}\n",
    "                    },\n",
    "                    \"argument_map\": {\n",
    "                        \"type\": \"string\",\n",
    "                        \"description\": \"A mermaid graph representing the argument map\",\n",
    "                    },\n",
    "                    \"speaker\": {\n",
    "                        \"type\": \"array\",\n",
    "                        \"description\": \"The speakers in the debate and their arguments\",\n",
    "                        \"items\": {\n",
    "                            \"$ref\": \"#\"\n",
    "                        },\n",
    "                    },\n",
    "                },\n",
    "                \"$defs\": {\n",
    "                    \"rhetorical_strategy\": {\n",
    "                        \"type\": \"object\",\n",
    "                        \"description\": \"Quote and its corresponding rhetorical stategy\",\n",
    "                        \"properties\": {\n",
    "                            \"quote\": {\n",
    "                                \"type\": \"string\",\n",
    "                                \"description\": \"The quote from the argument\",\n",
    "                            },\n",
    "                            \"strategy\": {\n",
    "                                \"type\": \"string\",\n",
    "                                \"description\": \"The rhetorical strategy in the quote\",\n",
    "                            }\n",
    "                        },\n",
    "                        \"required\": [\"quote\", \"strategy\"],\n",
    "                        \"additionalProperties\": False\n",
    "                    },\n",
    "                    \"fallacy\": {\n",
    "                        \"type\": \"object\",\n",
    "                        \"description\": \"Quote and its corresponding fallacy\",\n",
    "                        \"properties\": {\n",
    "                            \"quote\": {\n",
    "                                \"type\": \"string\",\n",
    "                                \"description\": \"The quote from the argument\",\n",
    "                            },\n",
    "                            \"fallacy\": {\n",
    "                                \"type\": \"string\",\n",
    "                                \"description\": \"The fallacy in the quote\",\n",
    "                            }\n",
    "                        },\n",
    "                        \"required\": [\"quote\", \"fallacy\"],\n",
    "                        \"additionalProperties\": False\n",
    "                    }\n",
    "                },\n",
    "                \"required\": [\"rhetorical_strategies\", \"fallacies\", \"argument_map\", \"speaker\"],\n",
    "                \"additionalProperties\": False\n",
    "            } \n",
    "        }\n",
    "    }\n",
    ")\n",
    "\n",
    "display(Markdown(f\"### Topic of Debate: {topic_of_debate}\"))\n",
    "display(Markdown(f\"{gang_violence_debate}\"))\n",
    "\n",
    "\n",
    "llm_response = completion.choices[0].message\n",
    "if (llm_response.refusal):\n",
    "    print(llm_response.refusal)\n",
    "else:\n",
    "    # rprint(llm_response)\n",
    "    try: \n",
    "        llm_response_content = json.loads(llm_response.content)\n",
    "        # rprint(f\"Rhetorical Strategies (overall):{llm_response_content['rhetorical_strategies']}\")\n",
    "        # Print rhetorical strategies in a table format\n",
    "        html_content = \"<h3>Rhetorical Strategies (Overall)</h3>\"\n",
    "        html_content += \"<table><tr><th>Quote</th><th>Strategy</th></tr>\"\n",
    "        if llm_response_content['rhetorical_strategies']:\n",
    "            for strategy in llm_response_content['rhetorical_strategies']:\n",
    "                html_content += f\"<tr><td>{strategy['quote']}</td><td>{strategy['strategy']}</td></tr>\"\n",
    "            html_content += \"</table>\"\n",
    "        else:\n",
    "            html_content += \"<p>No rhetorical strategies found</p>\"\n",
    "\n",
    "        if llm_response_content['fallacies']:        \n",
    "            html_content += \"<h3>Fallacies (Overall)</h3>\"\n",
    "            html_content += \"<table><tr><th>Quote</th><th>Fallacy</th></tr>\"\n",
    "            for fallacy in llm_response_content['fallacies']:\n",
    "                html_content += f\"<tr><td>{fallacy['quote']}</td><td>{fallacy['fallacy']}</td></tr>\"\n",
    "            html_content += \"</table>\"\n",
    "        else:\n",
    "            html_content += \"<p>No fallacies found</p>\"\n",
    "\n",
    "        display(HTML(html_content))\n",
    "        # display(Markdown(f\"Fallacies (overall):{llm_response_content['fallacies']}\"))\n",
    "\n",
    "        # Extract the mermaid diagram script from the completion message content\n",
    "        if llm_response_content['argument_map']:\n",
    "            sequence = Graph('Sequence-diagram', llm_response_content['argument_map'])\n",
    "            render = md.Mermaid(sequence)\n",
    "\n",
    "            # Display the rendered mermaid diagram\n",
    "            display(render)\n",
    "\n",
    "        for i, speaker in enumerate(llm_response_content['speaker']):\n",
    "\n",
    "            display(Markdown(f\"### Speaker {i+1}:\"))\n",
    "            html_content = f\"<h3>Rhetorical Strategies by speaker {i+1}</h3>\"\n",
    "            html_content += \"<table><tr><th>Quote</th><th>Strategy</th></tr>\"\n",
    "            if speaker['rhetorical_strategies']:\n",
    "                for strategy in speaker['rhetorical_strategies']:\n",
    "                    html_content += f\"<tr><td>{strategy['quote']}</td><td>{strategy['strategy']}</td></tr>\"\n",
    "                html_content += \"</table>\"\n",
    "            else:\n",
    "                html_content += \"<p>No rhetorical strategies found</p>\"\n",
    "\n",
    "            if speaker['fallacies']:        \n",
    "                html_content += f\"<h3>Fallacies by speaker {i+1}</h3>\"\n",
    "                html_content += \"<table><tr><th>Quote</th><th>Fallacy</th></tr>\"\n",
    "                for fallacy in speaker['fallacies']:\n",
    "                    html_content += f\"<tr><td>{fallacy['quote']}</td><td>{fallacy['fallacy']}</td></tr>\"\n",
    "                html_content += \"</table>\"\n",
    "            else:\n",
    "                html_content += \"<p>No fallacies found</p>\"\n",
    "            \n",
    "            display(HTML(html_content))\n",
    "            # display(Markdown(f\"Rhetorical Strategies: {speaker['rhetorical_strategies']}\"))\n",
    "            # display(Markdown(f\"Fallacies: {speaker['fallacies']}\"))\n",
    "            # display(Markdown(f\"Argument Map: {speaker['argument_map']}\"))\n",
    "            if speaker['argument_map']:\n",
    "                sequence = Graph('Sequence-diagram', speaker['argument_map'])\n",
    "                render = md.Mermaid(sequence)\n",
    "\n",
    "                # Display the rendered mermaid diagram\n",
    "                display(render)\n",
    "\n",
    "    except Exception as e:\n",
    "        rprint(f\"Json parsing error: {e}\")\n",
    "\n"
   ]
  },
  {
   "cell_type": "code",
   "execution_count": null,
   "metadata": {},
   "outputs": [
    {
     "data": {
      "text/html": [
       "<pre style=\"white-space:pre;overflow-x:auto;line-height:normal;font-family:Menlo,'DejaVu Sans Mono',consolas,'Courier New',monospace\"><span style=\"color: #800080; text-decoration-color: #800080; font-weight: bold\">ChatCompletionMessage</span><span style=\"font-weight: bold\">(</span>\n",
       "<span style=\"color: #7fbf7f; text-decoration-color: #7fbf7f\">│   </span><span style=\"color: #808000; text-decoration-color: #808000\">content</span>=<span style=\"color: #008000; text-decoration-color: #008000\">'{\"fact_checks\":[{\"quote\":\"Last year, Europol identified 821 high-risk criminal networks active in the EU.\",\"source\":\"Europol\\'s annual report or press releases\",\"url\":\"https://www.europol.europa.eu\"},{\"quote\":\"Drugs are now Europe\\'s most lucrative criminal market, worth EUR 31 billion annually.\",\"source\":\"EU Drug Markets Report\",\"url\":\"https://www.emcdda.europa.eu/publications/joint-publications/eu-drug-markets-report-2023_en\"},{\"quote\":\"Last year alone, 44 people lost their lives to shootings...\",\"source\":\"Swedish Crime Survey and official police statistics\",\"url\":\"https://www.bra.se/bra-in-english/home/crime-and-statistics/crime-statistics.html\"}],\"speaker\":[{\"fact_checks\":[{\"quote\":\"Last year, Europol identified 821 high-risk criminal networks active in the EU.\",\"source\":\"Europol\\'s annual report or press releases\",\"url\":\"https://www.europol.europa.eu\"},{\"quote\":\"Drugs are now Europe\\'s most lucrative criminal market, worth EUR 31 billion annually.\",\"source\":\"EU Drug Markets Report\",\"url\":\"https://www.emcdda.europa.eu/publications/joint-publications/eu-drug-markets-report-2023_en\"}] ,\"speaker\":  [ { \"fact_checks\": [], \"speaker\": [ {\"fact_checks\":[], \"speaker\": [ {\"fact_checks\":[], \"speaker\":[]}]}]}]}, {\"fact_checks\":[{\"quote\":\"Last year alone, 44 people lost their lives to shootings...\",\"source\":\"Swedish Crime Survey and official police statistics\",\"url\":\"https://www.bra.se/bra-in-english/home/crime-and-statistics/crime-statistics.html\"}] ,\"speaker\":  [ { \"fact_checks\": [], \"speaker\": [ {\"fact_checks\":[], \"speaker\": [ {\"fact_checks\":[], \"speaker\":[]}]}]}]}]}'</span>,\n",
       "<span style=\"color: #7fbf7f; text-decoration-color: #7fbf7f\">│   </span><span style=\"color: #808000; text-decoration-color: #808000\">refusal</span>=<span style=\"color: #800080; text-decoration-color: #800080; font-style: italic\">None</span>,\n",
       "<span style=\"color: #7fbf7f; text-decoration-color: #7fbf7f\">│   </span><span style=\"color: #808000; text-decoration-color: #808000\">role</span>=<span style=\"color: #008000; text-decoration-color: #008000\">'assistant'</span>,\n",
       "<span style=\"color: #7fbf7f; text-decoration-color: #7fbf7f\">│   </span><span style=\"color: #808000; text-decoration-color: #808000\">audio</span>=<span style=\"color: #800080; text-decoration-color: #800080; font-style: italic\">None</span>,\n",
       "<span style=\"color: #7fbf7f; text-decoration-color: #7fbf7f\">│   </span><span style=\"color: #808000; text-decoration-color: #808000\">function_call</span>=<span style=\"color: #800080; text-decoration-color: #800080; font-style: italic\">None</span>,\n",
       "<span style=\"color: #7fbf7f; text-decoration-color: #7fbf7f\">│   </span><span style=\"color: #808000; text-decoration-color: #808000\">tool_calls</span>=<span style=\"color: #800080; text-decoration-color: #800080; font-style: italic\">None</span>\n",
       "<span style=\"font-weight: bold\">)</span>\n",
       "</pre>\n"
      ],
      "text/plain": [
       "\u001b[1;35mChatCompletionMessage\u001b[0m\u001b[1m(\u001b[0m\n",
       "\u001b[2;32m│   \u001b[0m\u001b[33mcontent\u001b[0m=\u001b[32m'\u001b[0m\u001b[32m{\u001b[0m\u001b[32m\"fact_checks\":\u001b[0m\u001b[32m[\u001b[0m\u001b[32m{\u001b[0m\u001b[32m\"quote\":\"Last year, Europol identified 821 high-risk criminal networks active in the EU.\",\"source\":\"Europol\\'s annual report or press releases\",\"url\":\"https://www.europol.europa.eu\"\u001b[0m\u001b[32m}\u001b[0m\u001b[32m,\u001b[0m\u001b[32m{\u001b[0m\u001b[32m\"quote\":\"Drugs are now Europe\\'s most lucrative criminal market, worth EUR 31 billion annually.\",\"source\":\"EU Drug Markets Report\",\"url\":\"https://www.emcdda.europa.eu/publications/joint-publications/eu-drug-markets-report-2023_en\"\u001b[0m\u001b[32m}\u001b[0m\u001b[32m,\u001b[0m\u001b[32m{\u001b[0m\u001b[32m\"quote\":\"Last year alone, 44 people lost their lives to shootings...\",\"source\":\"Swedish Crime Survey and official police statistics\",\"url\":\"https://www.bra.se/bra-in-english/home/crime-and-statistics/crime-statistics.html\"\u001b[0m\u001b[32m}\u001b[0m\u001b[32m]\u001b[0m\u001b[32m,\"speaker\":\u001b[0m\u001b[32m[\u001b[0m\u001b[32m{\u001b[0m\u001b[32m\"fact_checks\":\u001b[0m\u001b[32m[\u001b[0m\u001b[32m{\u001b[0m\u001b[32m\"quote\":\"Last year, Europol identified 821 high-risk criminal networks active in the EU.\",\"source\":\"Europol\\'s annual report or press releases\",\"url\":\"https://www.europol.europa.eu\"\u001b[0m\u001b[32m}\u001b[0m\u001b[32m,\u001b[0m\u001b[32m{\u001b[0m\u001b[32m\"quote\":\"Drugs are now Europe\\'s most lucrative criminal market, worth EUR 31 billion annually.\",\"source\":\"EU Drug Markets Report\",\"url\":\"https://www.emcdda.europa.eu/publications/joint-publications/eu-drug-markets-report-2023_en\"\u001b[0m\u001b[32m}\u001b[0m\u001b[32m]\u001b[0m\u001b[32m ,\"speaker\":  \u001b[0m\u001b[32m[\u001b[0m\u001b[32m \u001b[0m\u001b[32m{\u001b[0m\u001b[32m \"fact_checks\": \u001b[0m\u001b[32m[\u001b[0m\u001b[32m]\u001b[0m\u001b[32m, \"speaker\": \u001b[0m\u001b[32m[\u001b[0m\u001b[32m \u001b[0m\u001b[32m{\u001b[0m\u001b[32m\"fact_checks\":\u001b[0m\u001b[32m[\u001b[0m\u001b[32m]\u001b[0m\u001b[32m, \"speaker\": \u001b[0m\u001b[32m[\u001b[0m\u001b[32m \u001b[0m\u001b[32m{\u001b[0m\u001b[32m\"fact_checks\":\u001b[0m\u001b[32m[\u001b[0m\u001b[32m]\u001b[0m\u001b[32m, \"speaker\":\u001b[0m\u001b[32m[\u001b[0m\u001b[32m]\u001b[0m\u001b[32m}\u001b[0m\u001b[32m]\u001b[0m\u001b[32m}\u001b[0m\u001b[32m]\u001b[0m\u001b[32m}\u001b[0m\u001b[32m]\u001b[0m\u001b[32m}\u001b[0m\u001b[32m, \u001b[0m\u001b[32m{\u001b[0m\u001b[32m\"fact_checks\":\u001b[0m\u001b[32m[\u001b[0m\u001b[32m{\u001b[0m\u001b[32m\"quote\":\"Last year alone, 44 people lost their lives to shootings...\",\"source\":\"Swedish Crime Survey and official police statistics\",\"url\":\"https://www.bra.se/bra-in-english/home/crime-and-statistics/crime-statistics.html\"\u001b[0m\u001b[32m}\u001b[0m\u001b[32m]\u001b[0m\u001b[32m ,\"speaker\":  \u001b[0m\u001b[32m[\u001b[0m\u001b[32m \u001b[0m\u001b[32m{\u001b[0m\u001b[32m \"fact_checks\": \u001b[0m\u001b[32m[\u001b[0m\u001b[32m]\u001b[0m\u001b[32m, \"speaker\": \u001b[0m\u001b[32m[\u001b[0m\u001b[32m \u001b[0m\u001b[32m{\u001b[0m\u001b[32m\"fact_checks\":\u001b[0m\u001b[32m[\u001b[0m\u001b[32m]\u001b[0m\u001b[32m, \"speaker\": \u001b[0m\u001b[32m[\u001b[0m\u001b[32m \u001b[0m\u001b[32m{\u001b[0m\u001b[32m\"fact_checks\":\u001b[0m\u001b[32m[\u001b[0m\u001b[32m]\u001b[0m\u001b[32m, \"speaker\":\u001b[0m\u001b[32m[\u001b[0m\u001b[32m]\u001b[0m\u001b[32m}\u001b[0m\u001b[32m]\u001b[0m\u001b[32m}\u001b[0m\u001b[32m]\u001b[0m\u001b[32m}\u001b[0m\u001b[32m]\u001b[0m\u001b[32m}\u001b[0m\u001b[32m]\u001b[0m\u001b[32m}\u001b[0m\u001b[32m'\u001b[0m,\n",
       "\u001b[2;32m│   \u001b[0m\u001b[33mrefusal\u001b[0m=\u001b[3;35mNone\u001b[0m,\n",
       "\u001b[2;32m│   \u001b[0m\u001b[33mrole\u001b[0m=\u001b[32m'assistant'\u001b[0m,\n",
       "\u001b[2;32m│   \u001b[0m\u001b[33maudio\u001b[0m=\u001b[3;35mNone\u001b[0m,\n",
       "\u001b[2;32m│   \u001b[0m\u001b[33mfunction_call\u001b[0m=\u001b[3;35mNone\u001b[0m,\n",
       "\u001b[2;32m│   \u001b[0m\u001b[33mtool_calls\u001b[0m=\u001b[3;35mNone\u001b[0m\n",
       "\u001b[1m)\u001b[0m\n"
      ]
     },
     "metadata": {},
     "output_type": "display_data"
    },
    {
     "data": {
      "text/html": [
       "<h3>Fact Checker (Overall)</h3><table><tr><th>Quote</th><th>Fact Sources</th><th>URL</th></tr><tr><td>Last year, Europol identified 821 high-risk criminal networks active in the EU.</td><td>Europol's annual report or press releases</td><td>https://www.europol.europa.eu</td></tr><tr><td>Drugs are now Europe's most lucrative criminal market, worth EUR 31 billion annually.</td><td>EU Drug Markets Report</td><td>https://www.emcdda.europa.eu/publications/joint-publications/eu-drug-markets-report-2023_en</td></tr><tr><td>Last year alone, 44 people lost their lives to shootings...</td><td>Swedish Crime Survey and official police statistics</td><td>https://www.bra.se/bra-in-english/home/crime-and-statistics/crime-statistics.html</td></tr></table>"
      ],
      "text/plain": [
       "<IPython.core.display.HTML object>"
      ]
     },
     "metadata": {},
     "output_type": "display_data"
    }
   ],
   "source": [
    "completion = client.chat.completions.create(\n",
    "    model=\"gpt-4o-mini\",\n",
    "    messages=[\n",
    "        {\"role\": \"developer\", \n",
    "         \"content\": f\"You are a helpful assistant to a debate moderator and extremely knowledable in debate analysis. Help the moderator by checking for facts in the arguments provided. \\n\\\n",
    "            The debate is on the topic: {topic_of_debate}. The debate consists of multiple speakers and therefore, perform fact checking for each speaker.\\n\\\n",
    "            Give the quote and its corresponding sources from where it can be fact checked. The sources should be research papers, news channels and journal articles.\"\n",
    "        },\n",
    "         \n",
    "        {\n",
    "            \"role\": \"user\",\n",
    "            \"content\": f\"{gang_violence_debate}\"\n",
    "        }\n",
    "    ],\n",
    "    response_format={\n",
    "        \"type\": \"json_schema\", \n",
    "        \"json_schema\": {\n",
    "            \"name\": \"moderation_help\",\n",
    "            \"strict\": True,\n",
    "            \"schema\":{\n",
    "                \"type\": \"object\",\n",
    "                \"properties\": {\n",
    "                    \"fact_checks\": {\n",
    "                        \"type\": \"array\",\n",
    "                        \"description\": \"Facts sources for quotes in the argument\",\n",
    "                        \"items\": {\"$ref\": \"#/$defs/fact_check\"}\n",
    "                    },\n",
    "                    \"speaker\": {\n",
    "                        \"type\": \"array\",\n",
    "                        \"description\": \"The speakers in the debate and their arguments\",\n",
    "                        \"items\": {\n",
    "                            \"$ref\": \"#\"\n",
    "                        },\n",
    "                    },\n",
    "                },\n",
    "                \"$defs\": {\n",
    "                    \"fact_check\": {\n",
    "                        \"type\": \"object\",\n",
    "                        \"description\": \"Quote and its corresponding fact check source\",\n",
    "                        \"properties\": {\n",
    "                            \"quote\": {\n",
    "                                \"type\": \"string\",\n",
    "                                \"description\": \"The quote from the argument\",\n",
    "                            },\n",
    "                            \"source\": {\n",
    "                                \"type\": \"string\",\n",
    "                                \"description\": \"The source from where the quote can be fact checked\",\n",
    "                            },\n",
    "                            \"url\": {\n",
    "                                \"type\": \"string\",\n",
    "                                \"description\": \"The url of the source\",\n",
    "                            }\n",
    "                        },\n",
    "                        \"required\": [\"quote\", \"source\", \"url\"],\n",
    "                        \"additionalProperties\": False\n",
    "                    }\n",
    "                },\n",
    "                \"required\": [\"fact_checks\", \"speaker\"],\n",
    "                \"additionalProperties\": False\n",
    "            } \n",
    "        }\n",
    "    }\n",
    ")\n",
    "\n",
    "\n",
    "llm_response = completion.choices[0].message\n",
    "if (llm_response.refusal):\n",
    "    print(llm_response.refusal)\n",
    "else:\n",
    "    rprint(llm_response)\n",
    "    try: \n",
    "        llm_response_content = json.loads(llm_response.content)\n",
    "\n",
    "        # Print facts and its sources in a table format\n",
    "        html_content = \"<h3>Fact Checker (Overall)</h3>\"\n",
    "        html_content += \"<table><tr><th>Quote</th><th>Fact Sources</th><th>URL</th></tr>\"\n",
    "        if llm_response_content['fact_checks']:\n",
    "            for fact in llm_response_content['fact_checks']:\n",
    "                html_content += f\"<tr><td>{fact['quote']}</td><td>{fact['source']}</td><td>{fact['url']}</td></tr>\"\n",
    "            html_content += \"</table>\"\n",
    "        else:\n",
    "            html_content += \"<p>No fact sources found</p>\"\n",
    "\n",
    "        display(HTML(html_content))\n",
    "\n",
    "    except Exception as e:\n",
    "        rprint(f\"Json parsing error: {e}\")\n"
   ]
  },
  {
   "cell_type": "markdown",
   "metadata": {},
   "source": [
    "TODO:\n",
    "* Cut the request if it takes longer than x secs to process and give output.\n",
    "* use async requests for rhetorical expressions + fallacies and for argument map.\n",
    "* Improve fact checking by combining google custom search : https://cookbook.openai.com/examples/third_party/web_search_with_google_api_bring_your_own_browser_tool\n",
    "* use Mateusz's prompt too so that we get suggestions for moderator and some analysis of argument."
   ]
  },
  {
   "cell_type": "markdown",
   "metadata": {},
   "source": []
  },
  {
   "cell_type": "markdown",
   "metadata": {},
   "source": []
  },
  {
   "cell_type": "markdown",
   "metadata": {},
   "source": [
    "## Alpha version of rhetoric analysis + fact checker"
   ]
  },
  {
   "cell_type": "code",
   "execution_count": 22,
   "metadata": {},
   "outputs": [
    {
     "ename": "RuntimeError",
     "evalue": "asyncio.run() cannot be called from a running event loop",
     "output_type": "error",
     "traceback": [
      "\u001b[0;31m---------------------------------------------------------------------------\u001b[0m",
      "\u001b[0;31mRuntimeError\u001b[0m                              Traceback (most recent call last)",
      "Cell \u001b[0;32mIn[22], line 93\u001b[0m\n\u001b[1;32m     90\u001b[0m             \u001b[38;5;28;01mreturn\u001b[39;00m \u001b[38;5;28;01mNone\u001b[39;00m\n\u001b[1;32m     92\u001b[0m \u001b[38;5;66;03m# Example usage\u001b[39;00m\n\u001b[0;32m---> 93\u001b[0m html_content \u001b[38;5;241m=\u001b[39m \u001b[43masyncio\u001b[49m\u001b[38;5;241;43m.\u001b[39;49m\u001b[43mrun\u001b[49m\u001b[43m(\u001b[49m\u001b[43mget_fact_check_html\u001b[49m\u001b[43m(\u001b[49m\u001b[43mclient\u001b[49m\u001b[43m,\u001b[49m\u001b[43m \u001b[49m\u001b[43mtopic_of_debate\u001b[49m\u001b[43m,\u001b[49m\u001b[43m \u001b[49m\u001b[43mgang_violence_debate\u001b[49m\u001b[43m)\u001b[49m\u001b[43m)\u001b[49m\n\u001b[1;32m     94\u001b[0m display(HTML(html_content))\n",
      "File \u001b[0;32m/usr/local/Caskroom/miniforge/base/envs/impacthack_env/lib/python3.13/asyncio/runners.py:191\u001b[0m, in \u001b[0;36mrun\u001b[0;34m(main, debug, loop_factory)\u001b[0m\n\u001b[1;32m    161\u001b[0m \u001b[38;5;250m\u001b[39m\u001b[38;5;124;03m\"\"\"Execute the coroutine and return the result.\u001b[39;00m\n\u001b[1;32m    162\u001b[0m \n\u001b[1;32m    163\u001b[0m \u001b[38;5;124;03mThis function runs the passed coroutine, taking care of\u001b[39;00m\n\u001b[0;32m   (...)\u001b[0m\n\u001b[1;32m    187\u001b[0m \u001b[38;5;124;03m    asyncio.run(main())\u001b[39;00m\n\u001b[1;32m    188\u001b[0m \u001b[38;5;124;03m\"\"\"\u001b[39;00m\n\u001b[1;32m    189\u001b[0m \u001b[38;5;28;01mif\u001b[39;00m events\u001b[38;5;241m.\u001b[39m_get_running_loop() \u001b[38;5;129;01mis\u001b[39;00m \u001b[38;5;129;01mnot\u001b[39;00m \u001b[38;5;28;01mNone\u001b[39;00m:\n\u001b[1;32m    190\u001b[0m     \u001b[38;5;66;03m# fail fast with short traceback\u001b[39;00m\n\u001b[0;32m--> 191\u001b[0m     \u001b[38;5;28;01mraise\u001b[39;00m \u001b[38;5;167;01mRuntimeError\u001b[39;00m(\n\u001b[1;32m    192\u001b[0m         \u001b[38;5;124m\"\u001b[39m\u001b[38;5;124masyncio.run() cannot be called from a running event loop\u001b[39m\u001b[38;5;124m\"\u001b[39m)\n\u001b[1;32m    194\u001b[0m \u001b[38;5;28;01mwith\u001b[39;00m Runner(debug\u001b[38;5;241m=\u001b[39mdebug, loop_factory\u001b[38;5;241m=\u001b[39mloop_factory) \u001b[38;5;28;01mas\u001b[39;00m runner:\n\u001b[1;32m    195\u001b[0m     \u001b[38;5;28;01mreturn\u001b[39;00m runner\u001b[38;5;241m.\u001b[39mrun(main)\n",
      "\u001b[0;31mRuntimeError\u001b[0m: asyncio.run() cannot be called from a running event loop"
     ]
    }
   ],
   "source": [
    "import asyncio\n",
    "\n",
    "async def get_fact_check_html(client, topic_of_debate, gang_violence_debate):\n",
    "    completion = await client.chat.completions.create(\n",
    "        model=\"gpt-4o-mini\",\n",
    "        messages=[\n",
    "            {\"role\": \"developer\", \n",
    "             \"content\": f\"You are a helpful assistant to a debate moderator and extremely knowledable in debate analysis. Help the moderator by checking for facts in the arguments provided. \\n\\\n",
    "                The debate is on the topic: {topic_of_debate}. The debate consists of multiple speakers and therefore, perform fact checking for each speaker.\\n\\\n",
    "                Give the quote and its corresponding sources from where it can be fact checked. The sources should be research papers, news channels and journal articles.\"\n",
    "            },\n",
    "             \n",
    "            {\n",
    "                \"role\": \"user\",\n",
    "                \"content\": f\"{gang_violence_debate}\"\n",
    "            }\n",
    "        ],\n",
    "        response_format={\n",
    "            \"type\": \"json_schema\", \n",
    "            \"json_schema\": {\n",
    "                \"name\": \"moderation_help\",\n",
    "                \"strict\": True,\n",
    "                \"schema\":{\n",
    "                    \"type\": \"object\",\n",
    "                    \"properties\": {\n",
    "                        \"fact_checks\": {\n",
    "                            \"type\": \"array\",\n",
    "                            \"description\": \"Facts sources for quotes in the argument\",\n",
    "                            \"items\": {\"$ref\": \"#/$defs/fact_check\"}\n",
    "                        },\n",
    "                        \"speaker\": {\n",
    "                            \"type\": \"array\",\n",
    "                            \"description\": \"The speakers in the debate and their arguments\",\n",
    "                            \"items\": {\n",
    "                                \"$ref\": \"#\"\n",
    "                            },\n",
    "                        },\n",
    "                    },\n",
    "                    \"$defs\": {\n",
    "                        \"fact_check\": {\n",
    "                            \"type\": \"object\",\n",
    "                            \"description\": \"Quote and its corresponding fact check source\",\n",
    "                            \"properties\": {\n",
    "                                \"quote\": {\n",
    "                                    \"type\": \"string\",\n",
    "                                    \"description\": \"The quote from the argument\",\n",
    "                                },\n",
    "                                \"source\": {\n",
    "                                    \"type\": \"string\",\n",
    "                                    \"description\": \"The source from where the quote can be fact checked\",\n",
    "                                },\n",
    "                                \"url\": {\n",
    "                                    \"type\": \"string\",\n",
    "                                    \"description\": \"The url of the source\",\n",
    "                                }\n",
    "                            },\n",
    "                            \"required\": [\"quote\", \"source\", \"url\"],\n",
    "                            \"additionalProperties\": False\n",
    "                        }\n",
    "                    },\n",
    "                    \"required\": [\"fact_checks\", \"speaker\"],\n",
    "                    \"additionalProperties\": False\n",
    "                } \n",
    "            }\n",
    "        }\n",
    "    )\n",
    "\n",
    "    llm_response = completion.choices[0].message\n",
    "    if llm_response.refusal:\n",
    "        print(llm_response.refusal)\n",
    "        return None\n",
    "    else:\n",
    "        try: \n",
    "            llm_response_content = json.loads(llm_response.content)\n",
    "\n",
    "            # Print facts and its sources in a table format\n",
    "            html_content = \"<h3>Fact Checker (Overall)</h3>\"\n",
    "            html_content += \"<table><tr><th>Quote</th><th>Fact Sources</th><th>URL</th></tr>\"\n",
    "            if llm_response_content['fact_checks']:\n",
    "                for fact in llm_response_content['fact_checks']:\n",
    "                    html_content += f\"<tr><td>{fact['quote']}</td><td>{fact['source']}</td><td>{fact['url']}</td></tr>\"\n",
    "                html_content += \"</table>\"\n",
    "            else:\n",
    "                html_content += \"<p>No fact sources found</p>\"\n",
    "\n",
    "            return html_content\n",
    "\n",
    "        except Exception as e:\n",
    "            print(f\"Json parsing error: {e}\")\n",
    "            return None\n",
    "\n",
    "# Example usage\n",
    "html_content = asyncio.run(get_fact_check_html(client, topic_of_debate, gang_violence_debate))\n",
    "display(HTML(html_content))\n"
   ]
  }
 ],
 "metadata": {
  "kernelspec": {
   "display_name": "impacthack_env",
   "language": "python",
   "name": "python3"
  },
  "language_info": {
   "codemirror_mode": {
    "name": "ipython",
    "version": 3
   },
   "file_extension": ".py",
   "mimetype": "text/x-python",
   "name": "python",
   "nbconvert_exporter": "python",
   "pygments_lexer": "ipython3",
   "version": "3.13.2"
  }
 },
 "nbformat": 4,
 "nbformat_minor": 2
}
